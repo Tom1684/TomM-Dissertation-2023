{
 "cells": [
  {
   "cell_type": "markdown",
   "id": "bf5fc1df",
   "metadata": {},
   "source": [
    "# Feature Selection - 10 Different Methods"
   ]
  },
  {
   "cell_type": "markdown",
   "id": "25d43556",
   "metadata": {},
   "source": [
    "## Imports of various datasets"
   ]
  },
  {
   "cell_type": "markdown",
   "id": "9fca9262",
   "metadata": {},
   "source": [
    "### Breast Cancer"
   ]
  },
  {
   "cell_type": "markdown",
   "id": "1750a7c6",
   "metadata": {},
   "source": [
    "from sklearn.datasets import load_breast_cancer\n",
    "data_set = 'breastcancer'\n",
    "\n",
    "data = load_breast_cancer()\n",
    "X = pd.DataFrame(data.data, columns = data.feature_names)\n",
    "y = data.target\n",
    "X_train, X_test, y_train, y_test = train_test_split(X, y, test_size=0.2, random_state=42)"
   ]
  },
  {
   "cell_type": "markdown",
   "id": "b80f5366",
   "metadata": {},
   "source": [
    "### Congress"
   ]
  },
  {
   "cell_type": "markdown",
   "id": "0ee9327b",
   "metadata": {},
   "source": [
    "data = pd.read_csv(r'UCI/congress.csv')\n",
    "data.replace('y', 1, inplace=True)\n",
    "data.replace('n', 0, inplace=True)\n",
    "data.replace('?', 2, inplace=True)\n",
    "data.replace('republican', 1, inplace=True)\n",
    "data.replace('democrat', 0, inplace=True)\n",
    "X = data.drop(['Class Name'],axis=1)\n",
    "y = np.ravel(data['Class Name'])\n",
    "X_train, X_test, y_train, y_test = train_test_split(X, y, test_size=0.2, random_state=42)"
   ]
  },
  {
   "cell_type": "markdown",
   "id": "29257a99",
   "metadata": {},
   "source": [
    "### Heart"
   ]
  },
  {
   "cell_type": "markdown",
   "id": "787f9390",
   "metadata": {},
   "source": [
    "data = pd.read_csv(f'UCI/heart.csv')\n",
    "X = data.drop(['condition'],axis=1)\n",
    "y = np.ravel(data['condition'])\n",
    "X_train, X_test, y_train, y_test = train_test_split(X, y, test_size=0.2, random_state=42)"
   ]
  },
  {
   "cell_type": "markdown",
   "id": "d0f9ae12",
   "metadata": {},
   "source": [
    "### Ionosphere "
   ]
  },
  {
   "cell_type": "markdown",
   "id": "3b621f3a",
   "metadata": {},
   "source": [
    "data = pd.read_csv(f'UCI/ionosphere.csv')  \n",
    "X = data.drop(['class'],axis=1)\n",
    "### Must get rid of negative values\n",
    "min_values = X.iloc[:,2:].min()\n",
    "### Add the minimum value of each column to all rows in that respective column\n",
    "X.iloc[:,2:] += abs(min_values)\n",
    "X.iloc[:,2:]\n",
    "y = np.ravel(pd.get_dummies(data['class'], drop_first=True))\n",
    "X_train, X_test, y_train, y_test = train_test_split(X, y, test_size=0.2, random_state=42)"
   ]
  },
  {
   "cell_type": "markdown",
   "id": "90211fb2",
   "metadata": {},
   "source": [
    "### Sonar"
   ]
  },
  {
   "cell_type": "markdown",
   "id": "d630e6d7",
   "metadata": {},
   "source": [
    "data = pd.read_csv(f'UCI/sonar.csv')  \n",
    "X = data.drop(['Class'],axis=1)\n",
    "y = np.ravel(pd.get_dummies(data['Class'], drop_first=True))\n",
    "X_train, X_test, y_train, y_test = train_test_split(X, y, test_size=0.2, random_state=42)"
   ]
  },
  {
   "cell_type": "markdown",
   "id": "e7686eba",
   "metadata": {},
   "source": [
    "### TicTacToe"
   ]
  },
  {
   "cell_type": "markdown",
   "id": "418a7cbc",
   "metadata": {},
   "source": [
    "data = pd.read_csv(f'UCI/tictactoe.csv')  \n",
    "data.replace('x', 1, inplace=True)\n",
    "data.replace('o', 0, inplace=True)\n",
    "data.replace('b', 2, inplace=True)\n",
    "data.replace('positive',1, inplace=True)\n",
    "data.replace('negative',0, inplace=True)\n",
    "X = data.drop(['V10'],axis=1)\n",
    "y = np.ravel(data['V10'])\n",
    "X_train, X_test, y_train, y_test = train_test_split(X, y, test_size=0.2, random_state=42)"
   ]
  },
  {
   "cell_type": "markdown",
   "id": "91b5f55f",
   "metadata": {},
   "source": [
    "### Churn"
   ]
  },
  {
   "cell_type": "markdown",
   "id": "0f248466",
   "metadata": {},
   "source": [
    "data_set = 'churn'\n",
    "X_train = pd.read_csv(f'UCI/{data_set}/X_train.csv')\n",
    "X_test = pd.read_csv(f'UCI/{data_set}/X_test.csv')\n",
    "y_train = pd.read_csv(f'UCI/{data_set}/y_train.csv')\n",
    "y_train = np.ravel(y_train)\n",
    "y_test = pd.read_csv(f'UCI/{data_set}/y_test.csv')\n",
    "y_test = np.ravel(y_test)"
   ]
  },
  {
   "cell_type": "markdown",
   "id": "effa1536",
   "metadata": {},
   "source": [
    "### For saving"
   ]
  },
  {
   "cell_type": "markdown",
   "id": "22fc5865",
   "metadata": {},
   "source": [
    "np.savetxt(\"UCI/y_train.csv\", y_train, delimiter=\",\")\n",
    "np.savetxt(\"UCI/y_test.csv\", y_test, delimiter=\",\")\n",
    "\n",
    "X_train.to_csv('UCI/X_train.csv', index=False)\n",
    "X_test.to_csv('UCI/X_test.csv', index=False)"
   ]
  },
  {
   "cell_type": "markdown",
   "id": "b31f688e",
   "metadata": {},
   "source": [
    "## Rationale\n",
    "\n",
    "Randomly initialized populations are cheap, but some guidance to the initial population can lead to better and faster convergence to the Pareto front"
   ]
  },
  {
   "cell_type": "code",
   "execution_count": 348,
   "id": "6d8028ab",
   "metadata": {},
   "outputs": [],
   "source": [
    "import pandas as pd\n",
    "import numpy as np\n",
    "import pygmo as pg\n",
    "import random\n",
    "import functools\n",
    "import math as m\n",
    "import copy\n",
    "from numpy import genfromtxt\n",
    "\n",
    "\n",
    "# Plotting libraries\n",
    "import matplotlib.pyplot as plt\n",
    "import matplotlib.ticker as mtick\n",
    "import seaborn as sns\n",
    "\n",
    "# sklearn modules\n",
    "from sklearn.metrics import accuracy_score, mean_squared_error, roc_auc_score, roc_curve\n",
    "from sklearn.metrics import RocCurveDisplay, precision_recall_curve, recall_score\n",
    "from sklearn.metrics import make_scorer, precision_score, classification_report\n",
    "from sklearn.metrics import confusion_matrix, f1_score\n",
    "from sklearn.pipeline import Pipeline\n",
    "from sklearn.model_selection import train_test_split, GridSearchCV, cross_validate\n",
    "from sklearn.preprocessing import OneHotEncoder, StandardScaler, MinMaxScaler\n",
    "from sklearn.inspection import permutation_importance\n",
    "from sklearn import datasets\n",
    "\n",
    "from sklearn.feature_selection import SelectFromModel\n",
    "from skfeature.function.similarity_based import fisher_score\n",
    "from sklearn.feature_selection import RFE\n",
    "from sklearn.feature_selection import SequentialFeatureSelector\n",
    "from sklearn.feature_selection import SelectKBest, mutual_info_classif, chi2\n",
    "\n",
    "from sklearn.linear_model import LogisticRegression\n",
    "from sklearn.svm import SVC\n",
    "from sklearn.tree import DecisionTreeClassifier\n",
    "from sklearn.ensemble import GradientBoostingClassifier, RandomForestClassifier\n",
    "\n",
    "import sklearn_relief as relief\n",
    "from scipy.stats import spearmanr\n",
    "\n",
    "# For ignoring warnings about bad classifiers - it's the nature of the algorithm to come across these\n",
    "import warnings\n",
    "from sklearn.exceptions import ConvergenceWarning\n",
    "warnings.filterwarnings(\"ignore\", category=ConvergenceWarning)\n",
    "\n",
    "import os\n",
    "\n",
    "# Matplotlib configuration\n",
    "%matplotlib inline\n",
    "plt.rcParams['figure.figsize'] = (8,6)\n",
    "plt.rcParams['figure.dpi'] = 80\n",
    "plt.rc('axes', titlesize=12)\n",
    "plt.rc('axes', labelsize=12)"
   ]
  },
  {
   "cell_type": "markdown",
   "id": "a81f156e",
   "metadata": {},
   "source": [
    "## Declare data set and its target. Must split into train and test, else feature selection methods use test data"
   ]
  },
  {
   "cell_type": "code",
   "execution_count": 349,
   "id": "a1290326",
   "metadata": {},
   "outputs": [],
   "source": [
    "data = pd.read_csv(f'UCI/ionosphere.csv')  \n",
    "X = data.drop(['class'],axis=1)\n",
    "### Must get rid of negative values\n",
    "# min_values = X.iloc[:,2:].min()\n",
    "# ### Add the minimum value of each column to all rows in that respective column\n",
    "# X.iloc[:,2:] += abs(min_values)\n",
    "# X.iloc[:,2:]\n",
    "y = np.ravel(pd.get_dummies(data['class'], drop_first=True))\n",
    "X_train, X_test, y_train, y_test = train_test_split(X, y, test_size=0.2, random_state=42)"
   ]
  },
  {
   "cell_type": "markdown",
   "id": "cb2c6aba",
   "metadata": {},
   "source": [
    "np.savetxt(f\"UCI/{data_set}/y_train.csv\", y_train, delimiter=\",\")\n",
    "np.savetxt(f\"UCI/{data_set}/y_test.csv\", y_test, delimiter=\",\")\n",
    "\n",
    "X_train.to_csv(f'UCI/{data_set}/X_train.csv', index=False)\n",
    "X_test.to_csv(f'UCI/{data_set}/X_test.csv', index=False)"
   ]
  },
  {
   "cell_type": "markdown",
   "id": "9d13a567",
   "metadata": {},
   "source": [
    "### X must be a pandas dataframe with the features as columns, y must be a flat numpy array"
   ]
  },
  {
   "cell_type": "markdown",
   "id": "f1adbfe3",
   "metadata": {},
   "source": [
    "## Models to run on"
   ]
  },
  {
   "cell_type": "code",
   "execution_count": 350,
   "id": "95b4f99a",
   "metadata": {},
   "outputs": [],
   "source": [
    "# Set of learning algorithms\n",
    "model_dict = {\n",
    "    \"SVC lin\": SVC(random_state=42,kernel='linear',max_iter=int(1e4)),\n",
    "    \"SVC rbf\": SVC(random_state=42,kernel='rbf',max_iter=int(1e4)),\n",
    "    \"Log lasso\": LogisticRegression(random_state=42,penalty='l1', solver = 'liblinear'),\n",
    "    \"Log ridge\": LogisticRegression(random_state=42,penalty='l2'),\n",
    "    \"Dec tree\": DecisionTreeClassifier(random_state=42),\n",
    "    \"Grad boost\": GradientBoostingClassifier(n_estimators=100, learning_rate=1.0, max_depth=1, random_state=42),\n",
    "    \"Rand forest\": RandomForestClassifier(max_depth=2, random_state=42)\n",
    "}"
   ]
  },
  {
   "cell_type": "markdown",
   "id": "6793dede",
   "metadata": {},
   "source": [
    "### Some feature selection methods only take metric data as an input, we distinguish their keys here"
   ]
  },
  {
   "cell_type": "code",
   "execution_count": 351,
   "id": "743491fa",
   "metadata": {},
   "outputs": [],
   "source": [
    "# Number of features in model\n",
    "total_features = int(X_train.shape[1])\n",
    "\n",
    "# Feature names\n",
    "feat_names = np.asarray(list(X_train.columns))\n",
    "\n",
    "# Make list of indices of all features\n",
    "feat_indices = np.asarray(list(range(total_features)))"
   ]
  },
  {
   "cell_type": "code",
   "execution_count": 352,
   "id": "78a742e7",
   "metadata": {},
   "outputs": [],
   "source": [
    "# Make dictionary of indices of all features, for easy lookup\n",
    "feat_dictionary = {}\n",
    "\n",
    "for i, feature in enumerate(feat_names):\n",
    "    \n",
    "    feat_dictionary[feature] = i"
   ]
  },
  {
   "cell_type": "markdown",
   "id": "a30dc762",
   "metadata": {},
   "source": [
    "# Wrapper Methods"
   ]
  },
  {
   "cell_type": "markdown",
   "id": "7672388c",
   "metadata": {},
   "source": [
    "Wrapper methods use supervised learning for selecting the optimal feature subset. They use classifiers to gauge the classification performance of the selected feature subset in every iteration. This leads to an increased computational cost than filter-based methods, but such methods also perform several times better."
   ]
  },
  {
   "cell_type": "markdown",
   "id": "987c85bb",
   "metadata": {},
   "source": [
    "##  Recursive Feature Elimination (RFE)"
   ]
  },
  {
   "cell_type": "markdown",
   "id": "68e2b3a2",
   "metadata": {},
   "source": [
    "RFE selects top k features based on the machine learning model that has coef_attribute or feature_importances_attribute from their model (Almost any model). RFE would eliminate the least important features then retrain the model until it only selects the K-features you want.\n",
    "\n",
    "(IMPORTANT!) This method only works if the model has coef_ or features_importances_ attribute, if there are models out there having these attributes, you could apply RFE on Scikit-Learn."
   ]
  },
  {
   "cell_type": "code",
   "execution_count": 353,
   "id": "8cda2be7",
   "metadata": {},
   "outputs": [],
   "source": [
    "def recursive_feature_elimination(model_name,k):\n",
    "    '''\n",
    "    Employs the recursive feature elemination scikit-learn module to get the top k features in the training matrix\n",
    "    '''\n",
    "\n",
    "    # Selecting the best important features according to Logistic Regression\n",
    "    rfe_selector = RFE(estimator=model_dict[model_name], n_features_to_select = k, step = 1)\n",
    "\n",
    "    rfe_selector.fit(X_train, y_train)\n",
    "\n",
    "    return feat_indices[rfe_selector.get_support().tolist()]"
   ]
  },
  {
   "cell_type": "markdown",
   "id": "592400d1",
   "metadata": {},
   "source": [
    "##  Feature Selection via SelectFromModel - returns many features"
   ]
  },
  {
   "cell_type": "markdown",
   "id": "c7c9655d",
   "metadata": {},
   "source": [
    "Like the RFE, SelectFromModel from Scikit-Learn is based on a Machine Learning Model estimation for selecting the features. The differences are that SelectFromModel feature selection is based on the importance attribute (often is coef_ or feature_importances_ but it could be any callable) threshold. By default, the threshold is the mean."
   ]
  },
  {
   "cell_type": "markdown",
   "id": "ffafaada",
   "metadata": {},
   "source": [
    "SelectFromModel is a meta-transformer that can be used alongside any estimator that assigns importance to each feature through a specific attribute (such as coef_, feature_importances_) or via an importance_getter callable after fitting. The features are considered unimportant and removed if the corresponding importance of the feature values are below the provided threshold parameter. Apart from specifying the threshold numerically, there are built-in heuristics for finding a threshold using a string argument. Available heuristics are “mean”, “median” and float multiples of these like “0.1*mean”. In combination with the threshold criteria, one can use the max_features parameter to set a limit on the number of features to select."
   ]
  },
  {
   "cell_type": "code",
   "execution_count": 354,
   "id": "f61945ef",
   "metadata": {},
   "outputs": [],
   "source": [
    "def select_from_model(model_name, k):\n",
    "    '''\n",
    "    For a given learning algorithm, get features that pass the mean threshold in the training matrix\n",
    "    '''\n",
    "\n",
    "    sfm_selector = SelectFromModel(estimator=model_dict[model_name], max_features=k)\n",
    "\n",
    "    sfm_selector.fit(X_train, y_train)\n",
    "    \n",
    "    features = np.asarray(feat_indices[sfm_selector.get_support().tolist()])\n",
    "    \n",
    "    # For handling missing values\n",
    "    if len(features) < k:\n",
    "        \n",
    "        # Get values not in the list\n",
    "        missing = feat_indices[~np.in1d(feat_indices, features)]\n",
    "        \n",
    "        # Get the number of missing features you need to add to output k\n",
    "        num_missing = k - len(features)\n",
    "        \n",
    "        return np.append(features, missing[:num_missing])\n",
    "    \n",
    "    # Add feature indices to list\n",
    "    return features\n"
   ]
  },
  {
   "cell_type": "markdown",
   "id": "b889fe6f",
   "metadata": {},
   "source": [
    "# Filter Methods"
   ]
  },
  {
   "cell_type": "markdown",
   "id": "438e54b3",
   "metadata": {},
   "source": [
    "Filter-based feature selection methods determine feature importance using several scoring metrics in an unsupervised fashion, requiring no classifiers in its core. "
   ]
  },
  {
   "cell_type": "markdown",
   "id": "368646a1",
   "metadata": {},
   "source": [
    "## Univariate Feature Selection with SelectKBest "
   ]
  },
  {
   "cell_type": "markdown",
   "id": "abf4f679",
   "metadata": {},
   "source": [
    "Univariate Feature Selection is a feature selection method based on the univariate statistical test, e,g: chi2, Pearson-correlation, and many more. The first test below is done using the ANOVA F-value between label/feature for classification tasks.\n",
    "\n",
    "The premise with SelectKBest is combining the univariate statistical test with selecting the K-number of features based on the statistical result between the X and y."
   ]
  },
  {
   "cell_type": "code",
   "execution_count": 355,
   "id": "41d4f62e",
   "metadata": {},
   "outputs": [],
   "source": [
    "def selectkbest_ANOVA(k):\n",
    "    '''\n",
    "    Use analysis of variance to return k best features in the training matrix\n",
    "    '''\n",
    "    \n",
    "    ANOVA_selector = SelectKBest(k=k)\n",
    "\n",
    "    ANOVA_selector.fit(X_train, y_train)\n",
    "    \n",
    "    return feat_indices[ANOVA_selector.get_support().tolist()]"
   ]
  },
  {
   "cell_type": "markdown",
   "id": "d8c7002a",
   "metadata": {},
   "source": [
    "## SelectKBest - Mutual Information"
   ]
  },
  {
   "cell_type": "markdown",
   "id": "50e70c3e",
   "metadata": {},
   "source": [
    "From documentation: Mutual information (MI) [1] between two random variables is a non-negative value, which measures the dependency between the variables. It is equal to zero if and only if two random variables are independent, and higher values mean higher dependency.\n",
    "\n",
    "The function relies on nonparametric methods based on entropy estimation from k-nearest neighbors distances as described in [2] and [3]. Both methods are based on the idea originally proposed in [4].\n"
   ]
  },
  {
   "cell_type": "code",
   "execution_count": 356,
   "id": "92f2033a",
   "metadata": {},
   "outputs": [],
   "source": [
    "def selectkbest_mutual_inf(k):\n",
    "    '''\n",
    "    Use the muutal information of features to get the relative importance of k best features in the training matrix\n",
    "    '''\n",
    "    \n",
    "    MI_selector = SelectKBest(mutual_info_classif, k=k)\n",
    "\n",
    "    MI_selector.fit(X_train, y_train)\n",
    "    \n",
    "    return feat_indices[MI_selector.get_support().tolist()]"
   ]
  },
  {
   "cell_type": "markdown",
   "id": "1f76977e",
   "metadata": {},
   "source": [
    "## SelectKBest - ChiSquare"
   ]
  },
  {
   "cell_type": "markdown",
   "id": "409ab20a",
   "metadata": {},
   "source": [
    "The higher the value of the X2\n",
    "f metric, the higher is the importance of the feature f. The Chi-square measure is robust to\n",
    "the distribution of the data, can be computed with ease (i.e. low\n",
    "computational cost), and can capture detailed information from\n",
    "the data. The drawback of the method is that it is unable to interpret data classified into a large number of categories."
   ]
  },
  {
   "cell_type": "code",
   "execution_count": 357,
   "id": "2eef28fd",
   "metadata": {},
   "outputs": [],
   "source": [
    "def selectkbest_chi2(k):\n",
    "    '''\n",
    "    Rank features according to chi-2 values - cannot accept negative feature values\n",
    "    '''\n",
    "    \n",
    "    chi2_selector = SelectKBest(score_func=chi2, k=k)\n",
    "\n",
    "    chi2_selector.fit(X_train, y_train)\n",
    "    \n",
    "    return np.asarray(feat_indices[chi2_selector.get_support().tolist()])\n"
   ]
  },
  {
   "cell_type": "markdown",
   "id": "b4d9188a",
   "metadata": {},
   "source": [
    "## Pearson Correlation Coefficient"
   ]
  },
  {
   "cell_type": "markdown",
   "id": "65a20814",
   "metadata": {},
   "source": [
    "A lower value of PCCx indicates higher importance of the feature x. PCC can quantify the correlation between attributes in\n",
    "the feature space since it uses the method of covariance. It measures both the magnitude and direction of association between\n",
    "the features."
   ]
  },
  {
   "cell_type": "code",
   "execution_count": 358,
   "id": "967b0a84",
   "metadata": {},
   "outputs": [],
   "source": [
    "def pearson_corr_select(k):\n",
    "    '''\n",
    "    Rank features according to pearson correlation co-efficient\n",
    "    '''\n",
    "\n",
    "    # Get correlations\n",
    "    correlation_matrix = np.corrcoef(X_train, y_train, rowvar=False)\n",
    "    \n",
    "    # Extract the correlation coefficients of each feature with the target (last column)\n",
    "    correlations_with_target = correlation_matrix[:-1, -1]\n",
    "    \n",
    "    # Sort the indices of the features based on the correlation coefficients in descending order\n",
    "    sorted_indices = np.argsort(correlations_with_target)[::-1]\n",
    "    \n",
    "    return sorted_indices[:k]"
   ]
  },
  {
   "cell_type": "markdown",
   "id": "24c57e0e",
   "metadata": {},
   "source": [
    "## Spearman's Correlation Co-efficient"
   ]
  },
  {
   "cell_type": "markdown",
   "id": "08aa7eca",
   "metadata": {},
   "source": [
    "Spearman's rank correlation coefficient is a useful method for assessing feature importance in scenarios where the relationships between features and the response variable are not strictly linear and might involve monotonic, but not necessarily linear, trends. Unlike linear correlation measures, such as Pearson's correlation, Spearman's rank takes into account the relative order of values rather than their precise numerical differences. This makes it effective in capturing nonlinear associations and identifying features that impact the response variable in consistent monotonic ways. It is particularly valuable when dealing with ordinal or categorical data, or when the relationships involve outliers that can distort linear correlations. Spearman's rank offers a more comprehensive view of feature importance by considering both the direction and strength of monotonic relationships, making it suitable for a broader range of data distributions and relationships. This code is taken from the HFMOEA paper, (Kundu, Mallipedi)."
   ]
  },
  {
   "cell_type": "code",
   "execution_count": 359,
   "id": "f5146553",
   "metadata": {},
   "outputs": [],
   "source": [
    "\n",
    "def spearman_feature_importance(X, y):\n",
    "    '''\n",
    "    Use spearman rank to get feature importance of all features in data matrix\n",
    "    '''\n",
    "    \n",
    "    X = X.values\n",
    "    \n",
    "    num_features = X.shape[1]\n",
    "    feature_importance_scores = np.zeros(num_features)\n",
    "    \n",
    "    # Get spearman rank for each feature\n",
    "    for i in range(num_features):\n",
    "        feature_scores, _ = spearmanr(X[:, i], y)\n",
    "        feature_importance_scores[i] = abs(feature_scores)\n",
    "            \n",
    "    return np.argsort(feature_importance_scores)\n",
    "\n"
   ]
  },
  {
   "cell_type": "markdown",
   "id": "796e7cba",
   "metadata": {},
   "source": [
    "## Mean Absolute Deviation"
   ]
  },
  {
   "cell_type": "markdown",
   "id": "59f919f9",
   "metadata": {},
   "source": [
    "The mean absolute difference (MAD) computes the absolute difference from the mean value. The main difference between the variance and MAD measures is the absence of the square in the latter. The MAD, like the variance, is also a scale variant.’ [1] This means that higher the MAD, higher the discriminatory power."
   ]
  },
  {
   "cell_type": "code",
   "execution_count": 360,
   "id": "5cd37f95",
   "metadata": {},
   "outputs": [],
   "source": [
    "def mean_abs_deviation(k):\n",
    "    '''\n",
    "    Get k best features using mean absolute deviation\n",
    "    '''\n",
    "    # Calculate MAD for each feature\n",
    "    mean_abs_diff = np.sum(np.abs(X_train - np.mean(X_train,axis=0)),axis=0)/X_train.shape[0]\n",
    "\n",
    "    # Sort by decreasing values of MAD, get the k best features\n",
    "    l = mean_abs_diff.to_frame().sort_values(by=[0], ascending=False)\n",
    "    k_best_strings = list(l.index[:k])\n",
    "\n",
    "    return np.asarray([feat_dictionary[el] for el in k_best_strings])"
   ]
  },
  {
   "cell_type": "markdown",
   "id": "d40e9e82",
   "metadata": {},
   "source": [
    "## Fisher Score - metric vars only"
   ]
  },
  {
   "cell_type": "markdown",
   "id": "c7d93746",
   "metadata": {},
   "source": [
    "Input only metric features. Fisher score is one of the most widely used supervised feature selection methods. The algorithm which we will use returns the ranks of the variables based on the fisher’s score in descending order. We can then select the variables as per the case."
   ]
  },
  {
   "cell_type": "code",
   "execution_count": 361,
   "id": "6d914fc8",
   "metadata": {},
   "outputs": [],
   "source": [
    "def fisher_score_func(k):\n",
    "    '''\n",
    "    Select best k features using fisher score\n",
    "    '''\n",
    "    # Use the Fisher algorithm to get a score for each metric feature\n",
    "    ranks = fisher_score.fisher_score(X_train.values,y_train)\n",
    "    \n",
    "    return np.asarray(ranks[:k])\n",
    "    "
   ]
  },
  {
   "cell_type": "markdown",
   "id": "47180f41",
   "metadata": {},
   "source": [
    "## Relief Filter"
   ]
  },
  {
   "cell_type": "markdown",
   "id": "385b6f51",
   "metadata": {},
   "source": [
    "A\n",
    "similarity-based metric that computes the Euclidean distance to\n",
    "assert feature importance. For this, a feature X is selected randomly, and its two nearest neighbors, based on the Euclidean\n",
    "distance, are selected as such: one from the same class as X, represented as H, called nearest hit, and the other neighbor from a\n",
    "different class, represented as M, called nearest miss. \n",
    "\n",
    "The Relief filter methods do not assume conditional independence of the features in the feature space to estimate their\n",
    "importance, unlike many heuristic algorithms. Relief is an efficient algorithm that can capture contextual information and\n",
    "assess the attribute quality in cases where there are strong dependences between the attributes."
   ]
  },
  {
   "cell_type": "code",
   "execution_count": 362,
   "id": "492ea2fd",
   "metadata": {},
   "outputs": [],
   "source": [
    "def Relief(k):\n",
    "    '''\n",
    "    Use relief algorithm to get feature rankings for k top features\n",
    "    '''\n",
    "\n",
    "    r = relief.Relief(\n",
    "        n_features=total_features\n",
    "    ) \n",
    "\n",
    "    my_transformed_matrix = r.fit_transform(\n",
    "        X_train.values,\n",
    "        y_train\n",
    "    )\n",
    "\n",
    "    # Higher weights are better\n",
    "    weights = np.zeros((total_features ,2))\n",
    "\n",
    "    weights[:,0], weights[:,1] = np.asarray(r.w_), feat_indices\n",
    "\n",
    "    weights_sort = weights[weights[:, 0].argsort()[::-1]]\n",
    "\n",
    "    return np.asarray(weights_sort[:k,1].astype(int))"
   ]
  },
  {
   "cell_type": "markdown",
   "id": "b2111aaf",
   "metadata": {},
   "source": [
    "# Building a Borda voting system"
   ]
  },
  {
   "cell_type": "markdown",
   "id": "801a73c3",
   "metadata": {},
   "source": [
    "### Declare model name to run for"
   ]
  },
  {
   "cell_type": "code",
   "execution_count": 363,
   "id": "05204446",
   "metadata": {},
   "outputs": [],
   "source": [
    "model_name = 'Log lasso'"
   ]
  },
  {
   "cell_type": "markdown",
   "id": "e55c53dc",
   "metadata": {},
   "source": [
    "### Method names"
   ]
  },
  {
   "cell_type": "code",
   "execution_count": 364,
   "id": "5f201679",
   "metadata": {},
   "outputs": [],
   "source": [
    "method_names = ['PCC', 'MAD', 'Fisher', 'Relief', 'RFE', 'SFM', 'ANOVA', 'MI', 'Chi-2']"
   ]
  },
  {
   "cell_type": "markdown",
   "id": "d5294c36",
   "metadata": {},
   "source": [
    "### Check if every function returns the right amount of features"
   ]
  },
  {
   "cell_type": "markdown",
   "id": "ef663158",
   "metadata": {},
   "source": [
    "k = total_features\n",
    "elements_list = [\n",
    "    pearson_corr_select(k),\n",
    "    mean_abs_deviation(k),\n",
    "    fisher_score_func(k),\n",
    "    Relief(k),\n",
    "    recursive_feature_elimination(model_name, k),\n",
    "    select_from_model(model_name, k),\n",
    "    selectkbest_ANOVA(k),\n",
    "    selectkbest_mutual_inf(k),\n",
    "    selectkbest_chi2(k)\n",
    "]"
   ]
  },
  {
   "cell_type": "markdown",
   "id": "b00708fb",
   "metadata": {},
   "source": [
    "print(\"Missing features in each method are as follows:\")\n",
    "for i, el in enumerate(elements_list):\n",
    "    \n",
    "    missing = len(feat_indices[~np.in1d(feat_indices, el)])\n",
    "    \n",
    "    if missing > 0:\n",
    "        print(f\"Method {method_names[i]} has {missing} missing features\")"
   ]
  },
  {
   "cell_type": "markdown",
   "id": "09dada45",
   "metadata": {},
   "source": [
    "# Methods that return ranked lists"
   ]
  },
  {
   "cell_type": "markdown",
   "id": "710fcaab",
   "metadata": {},
   "source": [
    "### A function that returns the best features from feature selection methods that rank their outputs"
   ]
  },
  {
   "cell_type": "markdown",
   "id": "c51e8ec0",
   "metadata": {},
   "source": [
    "For example, the relief algorithm does return a score for each feature, allowing for very easy ranking. But some selection methods return only the k features they selected in numerical order. So in order to get a ranking from every one, this process is used"
   ]
  },
  {
   "cell_type": "code",
   "execution_count": 365,
   "id": "83199f15",
   "metadata": {},
   "outputs": [],
   "source": [
    "def get_ranked_features():\n",
    "    '''\n",
    "    This function returns a ranked list of features from all the methods listed in it\n",
    "    '''\n",
    "    \n",
    "    features = []\n",
    "    k = total_features\n",
    "    \n",
    "    features.append(spearman_feature_importance(X_train,y_train))\n",
    "    features.append(pearson_corr_select(k))\n",
    "    features.append(mean_abs_deviation(k))\n",
    "    features.append(fisher_score_func(k))\n",
    "    features.append(Relief(k))\n",
    "    \n",
    "    return np.asarray(features)"
   ]
  },
  {
   "cell_type": "markdown",
   "id": "3890f3b7",
   "metadata": {},
   "source": [
    "# Methods that don't return ranked lists"
   ]
  },
  {
   "cell_type": "markdown",
   "id": "0da13ae0",
   "metadata": {},
   "source": [
    "### A function that returns the best features from feature selection methods that don't rank their outputs"
   ]
  },
  {
   "cell_type": "code",
   "execution_count": 366,
   "id": "9bf50abe",
   "metadata": {},
   "outputs": [],
   "source": [
    "def get_features_for_k(k, model_name):\n",
    "    '''\n",
    "    Used recursively with incremented k to build a ranking list for feature selection methods that don't\n",
    "    return featuers in order they are ranked in\n",
    "    '''\n",
    "    \n",
    "    features=[]\n",
    "    try:\n",
    "        features.append(recursive_feature_elimination(model_name,k))\n",
    "        features.append(select_from_model(model_name, k))\n",
    "        features.append(selectkbest_ANOVA(k))\n",
    "        features.append(selectkbest_mutual_inf(k))\n",
    "        features.append(selectkbest_chi2(k))\n",
    "    \n",
    "    except ValueError:\n",
    "        features.append(recursive_feature_elimination(model_name,k))\n",
    "        features.append(select_from_model(model_name, k))\n",
    "        features.append(selectkbest_ANOVA(k))\n",
    "        features.append(selectkbest_mutual_inf(k))\n",
    "\n",
    "    return np.asarray(features)"
   ]
  },
  {
   "cell_type": "markdown",
   "id": "f2b06330",
   "metadata": {},
   "source": [
    "### A function to append only the unique features output by each iteration of k to the matrix of features"
   ]
  },
  {
   "cell_type": "code",
   "execution_count": 367,
   "id": "e91b6eb9",
   "metadata": {},
   "outputs": [],
   "source": [
    "def add_unique_elements_column(matrix1, matrix2):\n",
    "    '''\n",
    "    Adds unique feature indices found with each iteration of k to the rankings matrix\n",
    "    '''\n",
    "    # Initialize an empty array to store the new column\n",
    "    new_column = np.empty((matrix1.shape[0], 1), dtype=matrix1.dtype)\n",
    "\n",
    "    # Iterate through the rows of both matrices\n",
    "    for i in range(matrix1.shape[0]):\n",
    "        # Find the unique elements in the corresponding row of matrix2\n",
    "        unique_elements = np.setdiff1d(matrix2[i], matrix1[i])\n",
    "\n",
    "        # Add the first unique element to the new column\n",
    "        new_column[i, 0] = unique_elements[0]\n",
    "\n",
    "    # Concatenate the new column to matrix1\n",
    "    result_matrix = np.hstack((matrix1, new_column))\n",
    "\n",
    "    return result_matrix"
   ]
  },
  {
   "cell_type": "markdown",
   "id": "7df9b662",
   "metadata": {},
   "source": [
    "### A function that combines the above two to produce a matrix of features, where each method represents a row and each column represents a ranking of the features, with an index of 0 being best"
   ]
  },
  {
   "cell_type": "code",
   "execution_count": 368,
   "id": "c8bf4a27",
   "metadata": {},
   "outputs": [],
   "source": [
    "def get_feature_matrix():\n",
    "    '''\n",
    "    Calls all function necessary to build feature matrix\n",
    "    '''\n",
    "    \n",
    "    ranked = get_ranked_features()\n",
    "    \n",
    "    output = get_features_for_k(1, model_name)\n",
    "    \n",
    "    for k in range(2,total_features+1):\n",
    "    \n",
    "        matrix2 = get_features_for_k(k, model_name)\n",
    "\n",
    "        output = add_unique_elements_column(output, matrix2)\n",
    "\n",
    "    return np.vstack((ranked, output))"
   ]
  },
  {
   "cell_type": "code",
   "execution_count": 369,
   "id": "84fe0901",
   "metadata": {},
   "outputs": [
    {
     "name": "stderr",
     "output_type": "stream",
     "text": [
      "/Users/Tomm/opt/anaconda3/envs/ORwDS_light/lib/python3.11/site-packages/scipy/stats/_stats_py.py:4916: ConstantInputWarning: An input array is constant; the correlation coefficient is not defined.\n",
      "  warnings.warn(stats.ConstantInputWarning(warn_msg))\n",
      "/Users/Tomm/opt/anaconda3/envs/ORwDS_light/lib/python3.11/site-packages/numpy/lib/function_base.py:2854: RuntimeWarning: invalid value encountered in divide\n",
      "  c /= stddev[:, None]\n",
      "/Users/Tomm/opt/anaconda3/envs/ORwDS_light/lib/python3.11/site-packages/numpy/lib/function_base.py:2855: RuntimeWarning: invalid value encountered in divide\n",
      "  c /= stddev[None, :]\n",
      "/Users/Tomm/opt/anaconda3/envs/ORwDS_light/lib/python3.11/site-packages/sklearn/feature_selection/_univariate_selection.py:112: UserWarning: Features [1] are constant.\n",
      "  warnings.warn(\"Features %s are constant.\" % constant_features_idx, UserWarning)\n",
      "/Users/Tomm/opt/anaconda3/envs/ORwDS_light/lib/python3.11/site-packages/sklearn/feature_selection/_univariate_selection.py:113: RuntimeWarning: invalid value encountered in divide\n",
      "  f = msb / msw\n",
      "/Users/Tomm/opt/anaconda3/envs/ORwDS_light/lib/python3.11/site-packages/sklearn/feature_selection/_univariate_selection.py:112: UserWarning: Features [1] are constant.\n",
      "  warnings.warn(\"Features %s are constant.\" % constant_features_idx, UserWarning)\n",
      "/Users/Tomm/opt/anaconda3/envs/ORwDS_light/lib/python3.11/site-packages/sklearn/feature_selection/_univariate_selection.py:113: RuntimeWarning: invalid value encountered in divide\n",
      "  f = msb / msw\n",
      "/Users/Tomm/opt/anaconda3/envs/ORwDS_light/lib/python3.11/site-packages/sklearn/feature_selection/_univariate_selection.py:112: UserWarning: Features [1] are constant.\n",
      "  warnings.warn(\"Features %s are constant.\" % constant_features_idx, UserWarning)\n",
      "/Users/Tomm/opt/anaconda3/envs/ORwDS_light/lib/python3.11/site-packages/sklearn/feature_selection/_univariate_selection.py:113: RuntimeWarning: invalid value encountered in divide\n",
      "  f = msb / msw\n",
      "/Users/Tomm/opt/anaconda3/envs/ORwDS_light/lib/python3.11/site-packages/sklearn/feature_selection/_univariate_selection.py:112: UserWarning: Features [1] are constant.\n",
      "  warnings.warn(\"Features %s are constant.\" % constant_features_idx, UserWarning)\n",
      "/Users/Tomm/opt/anaconda3/envs/ORwDS_light/lib/python3.11/site-packages/sklearn/feature_selection/_univariate_selection.py:113: RuntimeWarning: invalid value encountered in divide\n",
      "  f = msb / msw\n",
      "/Users/Tomm/opt/anaconda3/envs/ORwDS_light/lib/python3.11/site-packages/sklearn/feature_selection/_univariate_selection.py:112: UserWarning: Features [1] are constant.\n",
      "  warnings.warn(\"Features %s are constant.\" % constant_features_idx, UserWarning)\n",
      "/Users/Tomm/opt/anaconda3/envs/ORwDS_light/lib/python3.11/site-packages/sklearn/feature_selection/_univariate_selection.py:113: RuntimeWarning: invalid value encountered in divide\n",
      "  f = msb / msw\n",
      "/Users/Tomm/opt/anaconda3/envs/ORwDS_light/lib/python3.11/site-packages/sklearn/feature_selection/_univariate_selection.py:112: UserWarning: Features [1] are constant.\n",
      "  warnings.warn(\"Features %s are constant.\" % constant_features_idx, UserWarning)\n",
      "/Users/Tomm/opt/anaconda3/envs/ORwDS_light/lib/python3.11/site-packages/sklearn/feature_selection/_univariate_selection.py:113: RuntimeWarning: invalid value encountered in divide\n",
      "  f = msb / msw\n",
      "/Users/Tomm/opt/anaconda3/envs/ORwDS_light/lib/python3.11/site-packages/sklearn/feature_selection/_univariate_selection.py:112: UserWarning: Features [1] are constant.\n",
      "  warnings.warn(\"Features %s are constant.\" % constant_features_idx, UserWarning)\n",
      "/Users/Tomm/opt/anaconda3/envs/ORwDS_light/lib/python3.11/site-packages/sklearn/feature_selection/_univariate_selection.py:113: RuntimeWarning: invalid value encountered in divide\n",
      "  f = msb / msw\n",
      "/Users/Tomm/opt/anaconda3/envs/ORwDS_light/lib/python3.11/site-packages/sklearn/feature_selection/_univariate_selection.py:112: UserWarning: Features [1] are constant.\n",
      "  warnings.warn(\"Features %s are constant.\" % constant_features_idx, UserWarning)\n",
      "/Users/Tomm/opt/anaconda3/envs/ORwDS_light/lib/python3.11/site-packages/sklearn/feature_selection/_univariate_selection.py:113: RuntimeWarning: invalid value encountered in divide\n",
      "  f = msb / msw\n",
      "/Users/Tomm/opt/anaconda3/envs/ORwDS_light/lib/python3.11/site-packages/sklearn/feature_selection/_univariate_selection.py:112: UserWarning: Features [1] are constant.\n",
      "  warnings.warn(\"Features %s are constant.\" % constant_features_idx, UserWarning)\n",
      "/Users/Tomm/opt/anaconda3/envs/ORwDS_light/lib/python3.11/site-packages/sklearn/feature_selection/_univariate_selection.py:113: RuntimeWarning: invalid value encountered in divide\n",
      "  f = msb / msw\n",
      "/Users/Tomm/opt/anaconda3/envs/ORwDS_light/lib/python3.11/site-packages/sklearn/feature_selection/_univariate_selection.py:112: UserWarning: Features [1] are constant.\n",
      "  warnings.warn(\"Features %s are constant.\" % constant_features_idx, UserWarning)\n",
      "/Users/Tomm/opt/anaconda3/envs/ORwDS_light/lib/python3.11/site-packages/sklearn/feature_selection/_univariate_selection.py:113: RuntimeWarning: invalid value encountered in divide\n",
      "  f = msb / msw\n",
      "/Users/Tomm/opt/anaconda3/envs/ORwDS_light/lib/python3.11/site-packages/sklearn/feature_selection/_univariate_selection.py:112: UserWarning: Features [1] are constant.\n",
      "  warnings.warn(\"Features %s are constant.\" % constant_features_idx, UserWarning)\n",
      "/Users/Tomm/opt/anaconda3/envs/ORwDS_light/lib/python3.11/site-packages/sklearn/feature_selection/_univariate_selection.py:113: RuntimeWarning: invalid value encountered in divide\n",
      "  f = msb / msw\n",
      "/Users/Tomm/opt/anaconda3/envs/ORwDS_light/lib/python3.11/site-packages/sklearn/feature_selection/_univariate_selection.py:112: UserWarning: Features [1] are constant.\n",
      "  warnings.warn(\"Features %s are constant.\" % constant_features_idx, UserWarning)\n",
      "/Users/Tomm/opt/anaconda3/envs/ORwDS_light/lib/python3.11/site-packages/sklearn/feature_selection/_univariate_selection.py:113: RuntimeWarning: invalid value encountered in divide\n",
      "  f = msb / msw\n",
      "/Users/Tomm/opt/anaconda3/envs/ORwDS_light/lib/python3.11/site-packages/sklearn/feature_selection/_univariate_selection.py:112: UserWarning: Features [1] are constant.\n",
      "  warnings.warn(\"Features %s are constant.\" % constant_features_idx, UserWarning)\n",
      "/Users/Tomm/opt/anaconda3/envs/ORwDS_light/lib/python3.11/site-packages/sklearn/feature_selection/_univariate_selection.py:113: RuntimeWarning: invalid value encountered in divide\n",
      "  f = msb / msw\n",
      "/Users/Tomm/opt/anaconda3/envs/ORwDS_light/lib/python3.11/site-packages/sklearn/feature_selection/_univariate_selection.py:112: UserWarning: Features [1] are constant.\n",
      "  warnings.warn(\"Features %s are constant.\" % constant_features_idx, UserWarning)\n",
      "/Users/Tomm/opt/anaconda3/envs/ORwDS_light/lib/python3.11/site-packages/sklearn/feature_selection/_univariate_selection.py:113: RuntimeWarning: invalid value encountered in divide\n",
      "  f = msb / msw\n",
      "/Users/Tomm/opt/anaconda3/envs/ORwDS_light/lib/python3.11/site-packages/sklearn/feature_selection/_univariate_selection.py:112: UserWarning: Features [1] are constant.\n",
      "  warnings.warn(\"Features %s are constant.\" % constant_features_idx, UserWarning)\n",
      "/Users/Tomm/opt/anaconda3/envs/ORwDS_light/lib/python3.11/site-packages/sklearn/feature_selection/_univariate_selection.py:113: RuntimeWarning: invalid value encountered in divide\n",
      "  f = msb / msw\n",
      "/Users/Tomm/opt/anaconda3/envs/ORwDS_light/lib/python3.11/site-packages/sklearn/feature_selection/_univariate_selection.py:112: UserWarning: Features [1] are constant.\n",
      "  warnings.warn(\"Features %s are constant.\" % constant_features_idx, UserWarning)\n",
      "/Users/Tomm/opt/anaconda3/envs/ORwDS_light/lib/python3.11/site-packages/sklearn/feature_selection/_univariate_selection.py:113: RuntimeWarning: invalid value encountered in divide\n",
      "  f = msb / msw\n",
      "/Users/Tomm/opt/anaconda3/envs/ORwDS_light/lib/python3.11/site-packages/sklearn/feature_selection/_univariate_selection.py:112: UserWarning: Features [1] are constant.\n",
      "  warnings.warn(\"Features %s are constant.\" % constant_features_idx, UserWarning)\n",
      "/Users/Tomm/opt/anaconda3/envs/ORwDS_light/lib/python3.11/site-packages/sklearn/feature_selection/_univariate_selection.py:113: RuntimeWarning: invalid value encountered in divide\n",
      "  f = msb / msw\n",
      "/Users/Tomm/opt/anaconda3/envs/ORwDS_light/lib/python3.11/site-packages/sklearn/feature_selection/_univariate_selection.py:112: UserWarning: Features [1] are constant.\n",
      "  warnings.warn(\"Features %s are constant.\" % constant_features_idx, UserWarning)\n",
      "/Users/Tomm/opt/anaconda3/envs/ORwDS_light/lib/python3.11/site-packages/sklearn/feature_selection/_univariate_selection.py:113: RuntimeWarning: invalid value encountered in divide\n",
      "  f = msb / msw\n"
     ]
    },
    {
     "name": "stderr",
     "output_type": "stream",
     "text": [
      "/Users/Tomm/opt/anaconda3/envs/ORwDS_light/lib/python3.11/site-packages/sklearn/feature_selection/_univariate_selection.py:112: UserWarning: Features [1] are constant.\n",
      "  warnings.warn(\"Features %s are constant.\" % constant_features_idx, UserWarning)\n",
      "/Users/Tomm/opt/anaconda3/envs/ORwDS_light/lib/python3.11/site-packages/sklearn/feature_selection/_univariate_selection.py:113: RuntimeWarning: invalid value encountered in divide\n",
      "  f = msb / msw\n",
      "/Users/Tomm/opt/anaconda3/envs/ORwDS_light/lib/python3.11/site-packages/sklearn/feature_selection/_univariate_selection.py:112: UserWarning: Features [1] are constant.\n",
      "  warnings.warn(\"Features %s are constant.\" % constant_features_idx, UserWarning)\n",
      "/Users/Tomm/opt/anaconda3/envs/ORwDS_light/lib/python3.11/site-packages/sklearn/feature_selection/_univariate_selection.py:113: RuntimeWarning: invalid value encountered in divide\n",
      "  f = msb / msw\n",
      "/Users/Tomm/opt/anaconda3/envs/ORwDS_light/lib/python3.11/site-packages/sklearn/feature_selection/_univariate_selection.py:112: UserWarning: Features [1] are constant.\n",
      "  warnings.warn(\"Features %s are constant.\" % constant_features_idx, UserWarning)\n",
      "/Users/Tomm/opt/anaconda3/envs/ORwDS_light/lib/python3.11/site-packages/sklearn/feature_selection/_univariate_selection.py:113: RuntimeWarning: invalid value encountered in divide\n",
      "  f = msb / msw\n",
      "/Users/Tomm/opt/anaconda3/envs/ORwDS_light/lib/python3.11/site-packages/sklearn/feature_selection/_univariate_selection.py:112: UserWarning: Features [1] are constant.\n",
      "  warnings.warn(\"Features %s are constant.\" % constant_features_idx, UserWarning)\n",
      "/Users/Tomm/opt/anaconda3/envs/ORwDS_light/lib/python3.11/site-packages/sklearn/feature_selection/_univariate_selection.py:113: RuntimeWarning: invalid value encountered in divide\n",
      "  f = msb / msw\n",
      "/Users/Tomm/opt/anaconda3/envs/ORwDS_light/lib/python3.11/site-packages/sklearn/feature_selection/_univariate_selection.py:112: UserWarning: Features [1] are constant.\n",
      "  warnings.warn(\"Features %s are constant.\" % constant_features_idx, UserWarning)\n",
      "/Users/Tomm/opt/anaconda3/envs/ORwDS_light/lib/python3.11/site-packages/sklearn/feature_selection/_univariate_selection.py:113: RuntimeWarning: invalid value encountered in divide\n",
      "  f = msb / msw\n",
      "/Users/Tomm/opt/anaconda3/envs/ORwDS_light/lib/python3.11/site-packages/sklearn/feature_selection/_univariate_selection.py:112: UserWarning: Features [1] are constant.\n",
      "  warnings.warn(\"Features %s are constant.\" % constant_features_idx, UserWarning)\n",
      "/Users/Tomm/opt/anaconda3/envs/ORwDS_light/lib/python3.11/site-packages/sklearn/feature_selection/_univariate_selection.py:113: RuntimeWarning: invalid value encountered in divide\n",
      "  f = msb / msw\n",
      "/Users/Tomm/opt/anaconda3/envs/ORwDS_light/lib/python3.11/site-packages/sklearn/feature_selection/_univariate_selection.py:112: UserWarning: Features [1] are constant.\n",
      "  warnings.warn(\"Features %s are constant.\" % constant_features_idx, UserWarning)\n",
      "/Users/Tomm/opt/anaconda3/envs/ORwDS_light/lib/python3.11/site-packages/sklearn/feature_selection/_univariate_selection.py:113: RuntimeWarning: invalid value encountered in divide\n",
      "  f = msb / msw\n",
      "/Users/Tomm/opt/anaconda3/envs/ORwDS_light/lib/python3.11/site-packages/sklearn/feature_selection/_univariate_selection.py:112: UserWarning: Features [1] are constant.\n",
      "  warnings.warn(\"Features %s are constant.\" % constant_features_idx, UserWarning)\n",
      "/Users/Tomm/opt/anaconda3/envs/ORwDS_light/lib/python3.11/site-packages/sklearn/feature_selection/_univariate_selection.py:113: RuntimeWarning: invalid value encountered in divide\n",
      "  f = msb / msw\n",
      "/Users/Tomm/opt/anaconda3/envs/ORwDS_light/lib/python3.11/site-packages/sklearn/feature_selection/_univariate_selection.py:112: UserWarning: Features [1] are constant.\n",
      "  warnings.warn(\"Features %s are constant.\" % constant_features_idx, UserWarning)\n",
      "/Users/Tomm/opt/anaconda3/envs/ORwDS_light/lib/python3.11/site-packages/sklearn/feature_selection/_univariate_selection.py:113: RuntimeWarning: invalid value encountered in divide\n",
      "  f = msb / msw\n",
      "/Users/Tomm/opt/anaconda3/envs/ORwDS_light/lib/python3.11/site-packages/sklearn/feature_selection/_univariate_selection.py:112: UserWarning: Features [1] are constant.\n",
      "  warnings.warn(\"Features %s are constant.\" % constant_features_idx, UserWarning)\n",
      "/Users/Tomm/opt/anaconda3/envs/ORwDS_light/lib/python3.11/site-packages/sklearn/feature_selection/_univariate_selection.py:113: RuntimeWarning: invalid value encountered in divide\n",
      "  f = msb / msw\n",
      "/Users/Tomm/opt/anaconda3/envs/ORwDS_light/lib/python3.11/site-packages/sklearn/feature_selection/_univariate_selection.py:112: UserWarning: Features [1] are constant.\n",
      "  warnings.warn(\"Features %s are constant.\" % constant_features_idx, UserWarning)\n",
      "/Users/Tomm/opt/anaconda3/envs/ORwDS_light/lib/python3.11/site-packages/sklearn/feature_selection/_univariate_selection.py:113: RuntimeWarning: invalid value encountered in divide\n",
      "  f = msb / msw\n",
      "/Users/Tomm/opt/anaconda3/envs/ORwDS_light/lib/python3.11/site-packages/sklearn/feature_selection/_univariate_selection.py:112: UserWarning: Features [1] are constant.\n",
      "  warnings.warn(\"Features %s are constant.\" % constant_features_idx, UserWarning)\n",
      "/Users/Tomm/opt/anaconda3/envs/ORwDS_light/lib/python3.11/site-packages/sklearn/feature_selection/_univariate_selection.py:113: RuntimeWarning: invalid value encountered in divide\n",
      "  f = msb / msw\n",
      "/Users/Tomm/opt/anaconda3/envs/ORwDS_light/lib/python3.11/site-packages/sklearn/feature_selection/_univariate_selection.py:112: UserWarning: Features [1] are constant.\n",
      "  warnings.warn(\"Features %s are constant.\" % constant_features_idx, UserWarning)\n",
      "/Users/Tomm/opt/anaconda3/envs/ORwDS_light/lib/python3.11/site-packages/sklearn/feature_selection/_univariate_selection.py:113: RuntimeWarning: invalid value encountered in divide\n",
      "  f = msb / msw\n",
      "/Users/Tomm/opt/anaconda3/envs/ORwDS_light/lib/python3.11/site-packages/sklearn/feature_selection/_univariate_selection.py:112: UserWarning: Features [1] are constant.\n",
      "  warnings.warn(\"Features %s are constant.\" % constant_features_idx, UserWarning)\n",
      "/Users/Tomm/opt/anaconda3/envs/ORwDS_light/lib/python3.11/site-packages/sklearn/feature_selection/_univariate_selection.py:113: RuntimeWarning: invalid value encountered in divide\n",
      "  f = msb / msw\n",
      "/Users/Tomm/opt/anaconda3/envs/ORwDS_light/lib/python3.11/site-packages/sklearn/feature_selection/_univariate_selection.py:112: UserWarning: Features [1] are constant.\n",
      "  warnings.warn(\"Features %s are constant.\" % constant_features_idx, UserWarning)\n",
      "/Users/Tomm/opt/anaconda3/envs/ORwDS_light/lib/python3.11/site-packages/sklearn/feature_selection/_univariate_selection.py:113: RuntimeWarning: invalid value encountered in divide\n",
      "  f = msb / msw\n",
      "/Users/Tomm/opt/anaconda3/envs/ORwDS_light/lib/python3.11/site-packages/sklearn/feature_selection/_univariate_selection.py:112: UserWarning: Features [1] are constant.\n",
      "  warnings.warn(\"Features %s are constant.\" % constant_features_idx, UserWarning)\n",
      "/Users/Tomm/opt/anaconda3/envs/ORwDS_light/lib/python3.11/site-packages/sklearn/feature_selection/_univariate_selection.py:113: RuntimeWarning: invalid value encountered in divide\n",
      "  f = msb / msw\n",
      "/Users/Tomm/opt/anaconda3/envs/ORwDS_light/lib/python3.11/site-packages/sklearn/feature_selection/_univariate_selection.py:112: UserWarning: Features [1] are constant.\n",
      "  warnings.warn(\"Features %s are constant.\" % constant_features_idx, UserWarning)\n",
      "/Users/Tomm/opt/anaconda3/envs/ORwDS_light/lib/python3.11/site-packages/sklearn/feature_selection/_univariate_selection.py:113: RuntimeWarning: invalid value encountered in divide\n",
      "  f = msb / msw\n",
      "/Users/Tomm/opt/anaconda3/envs/ORwDS_light/lib/python3.11/site-packages/sklearn/feature_selection/_univariate_selection.py:112: UserWarning: Features [1] are constant.\n",
      "  warnings.warn(\"Features %s are constant.\" % constant_features_idx, UserWarning)\n",
      "/Users/Tomm/opt/anaconda3/envs/ORwDS_light/lib/python3.11/site-packages/sklearn/feature_selection/_univariate_selection.py:113: RuntimeWarning: invalid value encountered in divide\n",
      "  f = msb / msw\n",
      "/Users/Tomm/opt/anaconda3/envs/ORwDS_light/lib/python3.11/site-packages/sklearn/feature_selection/_univariate_selection.py:112: UserWarning: Features [1] are constant.\n",
      "  warnings.warn(\"Features %s are constant.\" % constant_features_idx, UserWarning)\n",
      "/Users/Tomm/opt/anaconda3/envs/ORwDS_light/lib/python3.11/site-packages/sklearn/feature_selection/_univariate_selection.py:113: RuntimeWarning: invalid value encountered in divide\n",
      "  f = msb / msw\n",
      "/Users/Tomm/opt/anaconda3/envs/ORwDS_light/lib/python3.11/site-packages/sklearn/feature_selection/_univariate_selection.py:112: UserWarning: Features [1] are constant.\n",
      "  warnings.warn(\"Features %s are constant.\" % constant_features_idx, UserWarning)\n",
      "/Users/Tomm/opt/anaconda3/envs/ORwDS_light/lib/python3.11/site-packages/sklearn/feature_selection/_univariate_selection.py:113: RuntimeWarning: invalid value encountered in divide\n",
      "  f = msb / msw\n"
     ]
    },
    {
     "name": "stderr",
     "output_type": "stream",
     "text": [
      "/Users/Tomm/opt/anaconda3/envs/ORwDS_light/lib/python3.11/site-packages/sklearn/feature_selection/_univariate_selection.py:112: UserWarning: Features [1] are constant.\n",
      "  warnings.warn(\"Features %s are constant.\" % constant_features_idx, UserWarning)\n",
      "/Users/Tomm/opt/anaconda3/envs/ORwDS_light/lib/python3.11/site-packages/sklearn/feature_selection/_univariate_selection.py:113: RuntimeWarning: invalid value encountered in divide\n",
      "  f = msb / msw\n",
      "/Users/Tomm/opt/anaconda3/envs/ORwDS_light/lib/python3.11/site-packages/sklearn/feature_selection/_univariate_selection.py:112: UserWarning: Features [1] are constant.\n",
      "  warnings.warn(\"Features %s are constant.\" % constant_features_idx, UserWarning)\n",
      "/Users/Tomm/opt/anaconda3/envs/ORwDS_light/lib/python3.11/site-packages/sklearn/feature_selection/_univariate_selection.py:113: RuntimeWarning: invalid value encountered in divide\n",
      "  f = msb / msw\n",
      "/Users/Tomm/opt/anaconda3/envs/ORwDS_light/lib/python3.11/site-packages/sklearn/feature_selection/_univariate_selection.py:112: UserWarning: Features [1] are constant.\n",
      "  warnings.warn(\"Features %s are constant.\" % constant_features_idx, UserWarning)\n",
      "/Users/Tomm/opt/anaconda3/envs/ORwDS_light/lib/python3.11/site-packages/sklearn/feature_selection/_univariate_selection.py:113: RuntimeWarning: invalid value encountered in divide\n",
      "  f = msb / msw\n",
      "/Users/Tomm/opt/anaconda3/envs/ORwDS_light/lib/python3.11/site-packages/sklearn/feature_selection/_univariate_selection.py:112: UserWarning: Features [1] are constant.\n",
      "  warnings.warn(\"Features %s are constant.\" % constant_features_idx, UserWarning)\n",
      "/Users/Tomm/opt/anaconda3/envs/ORwDS_light/lib/python3.11/site-packages/sklearn/feature_selection/_univariate_selection.py:113: RuntimeWarning: invalid value encountered in divide\n",
      "  f = msb / msw\n",
      "/Users/Tomm/opt/anaconda3/envs/ORwDS_light/lib/python3.11/site-packages/sklearn/feature_selection/_univariate_selection.py:112: UserWarning: Features [1] are constant.\n",
      "  warnings.warn(\"Features %s are constant.\" % constant_features_idx, UserWarning)\n",
      "/Users/Tomm/opt/anaconda3/envs/ORwDS_light/lib/python3.11/site-packages/sklearn/feature_selection/_univariate_selection.py:113: RuntimeWarning: invalid value encountered in divide\n",
      "  f = msb / msw\n",
      "/Users/Tomm/opt/anaconda3/envs/ORwDS_light/lib/python3.11/site-packages/sklearn/feature_selection/_univariate_selection.py:112: UserWarning: Features [1] are constant.\n",
      "  warnings.warn(\"Features %s are constant.\" % constant_features_idx, UserWarning)\n",
      "/Users/Tomm/opt/anaconda3/envs/ORwDS_light/lib/python3.11/site-packages/sklearn/feature_selection/_univariate_selection.py:113: RuntimeWarning: invalid value encountered in divide\n",
      "  f = msb / msw\n",
      "/Users/Tomm/opt/anaconda3/envs/ORwDS_light/lib/python3.11/site-packages/sklearn/feature_selection/_univariate_selection.py:112: UserWarning: Features [1] are constant.\n",
      "  warnings.warn(\"Features %s are constant.\" % constant_features_idx, UserWarning)\n",
      "/Users/Tomm/opt/anaconda3/envs/ORwDS_light/lib/python3.11/site-packages/sklearn/feature_selection/_univariate_selection.py:113: RuntimeWarning: invalid value encountered in divide\n",
      "  f = msb / msw\n",
      "/Users/Tomm/opt/anaconda3/envs/ORwDS_light/lib/python3.11/site-packages/sklearn/feature_selection/_univariate_selection.py:112: UserWarning: Features [1] are constant.\n",
      "  warnings.warn(\"Features %s are constant.\" % constant_features_idx, UserWarning)\n",
      "/Users/Tomm/opt/anaconda3/envs/ORwDS_light/lib/python3.11/site-packages/sklearn/feature_selection/_univariate_selection.py:113: RuntimeWarning: invalid value encountered in divide\n",
      "  f = msb / msw\n",
      "/Users/Tomm/opt/anaconda3/envs/ORwDS_light/lib/python3.11/site-packages/sklearn/feature_selection/_univariate_selection.py:112: UserWarning: Features [1] are constant.\n",
      "  warnings.warn(\"Features %s are constant.\" % constant_features_idx, UserWarning)\n",
      "/Users/Tomm/opt/anaconda3/envs/ORwDS_light/lib/python3.11/site-packages/sklearn/feature_selection/_univariate_selection.py:113: RuntimeWarning: invalid value encountered in divide\n",
      "  f = msb / msw\n",
      "/Users/Tomm/opt/anaconda3/envs/ORwDS_light/lib/python3.11/site-packages/sklearn/feature_selection/_univariate_selection.py:112: UserWarning: Features [1] are constant.\n",
      "  warnings.warn(\"Features %s are constant.\" % constant_features_idx, UserWarning)\n",
      "/Users/Tomm/opt/anaconda3/envs/ORwDS_light/lib/python3.11/site-packages/sklearn/feature_selection/_univariate_selection.py:113: RuntimeWarning: invalid value encountered in divide\n",
      "  f = msb / msw\n",
      "/Users/Tomm/opt/anaconda3/envs/ORwDS_light/lib/python3.11/site-packages/sklearn/feature_selection/_univariate_selection.py:112: UserWarning: Features [1] are constant.\n",
      "  warnings.warn(\"Features %s are constant.\" % constant_features_idx, UserWarning)\n",
      "/Users/Tomm/opt/anaconda3/envs/ORwDS_light/lib/python3.11/site-packages/sklearn/feature_selection/_univariate_selection.py:113: RuntimeWarning: invalid value encountered in divide\n",
      "  f = msb / msw\n",
      "/Users/Tomm/opt/anaconda3/envs/ORwDS_light/lib/python3.11/site-packages/sklearn/feature_selection/_univariate_selection.py:112: UserWarning: Features [1] are constant.\n",
      "  warnings.warn(\"Features %s are constant.\" % constant_features_idx, UserWarning)\n",
      "/Users/Tomm/opt/anaconda3/envs/ORwDS_light/lib/python3.11/site-packages/sklearn/feature_selection/_univariate_selection.py:113: RuntimeWarning: invalid value encountered in divide\n",
      "  f = msb / msw\n",
      "/Users/Tomm/opt/anaconda3/envs/ORwDS_light/lib/python3.11/site-packages/sklearn/feature_selection/_univariate_selection.py:112: UserWarning: Features [1] are constant.\n",
      "  warnings.warn(\"Features %s are constant.\" % constant_features_idx, UserWarning)\n",
      "/Users/Tomm/opt/anaconda3/envs/ORwDS_light/lib/python3.11/site-packages/sklearn/feature_selection/_univariate_selection.py:113: RuntimeWarning: invalid value encountered in divide\n",
      "  f = msb / msw\n",
      "/Users/Tomm/opt/anaconda3/envs/ORwDS_light/lib/python3.11/site-packages/sklearn/feature_selection/_univariate_selection.py:112: UserWarning: Features [1] are constant.\n",
      "  warnings.warn(\"Features %s are constant.\" % constant_features_idx, UserWarning)\n",
      "/Users/Tomm/opt/anaconda3/envs/ORwDS_light/lib/python3.11/site-packages/sklearn/feature_selection/_univariate_selection.py:113: RuntimeWarning: invalid value encountered in divide\n",
      "  f = msb / msw\n",
      "/Users/Tomm/opt/anaconda3/envs/ORwDS_light/lib/python3.11/site-packages/sklearn/feature_selection/_univariate_selection.py:112: UserWarning: Features [1] are constant.\n",
      "  warnings.warn(\"Features %s are constant.\" % constant_features_idx, UserWarning)\n",
      "/Users/Tomm/opt/anaconda3/envs/ORwDS_light/lib/python3.11/site-packages/sklearn/feature_selection/_univariate_selection.py:113: RuntimeWarning: invalid value encountered in divide\n",
      "  f = msb / msw\n",
      "/Users/Tomm/opt/anaconda3/envs/ORwDS_light/lib/python3.11/site-packages/sklearn/feature_selection/_univariate_selection.py:112: UserWarning: Features [1] are constant.\n",
      "  warnings.warn(\"Features %s are constant.\" % constant_features_idx, UserWarning)\n",
      "/Users/Tomm/opt/anaconda3/envs/ORwDS_light/lib/python3.11/site-packages/sklearn/feature_selection/_univariate_selection.py:113: RuntimeWarning: invalid value encountered in divide\n",
      "  f = msb / msw\n",
      "/Users/Tomm/opt/anaconda3/envs/ORwDS_light/lib/python3.11/site-packages/sklearn/feature_selection/_univariate_selection.py:112: UserWarning: Features [1] are constant.\n",
      "  warnings.warn(\"Features %s are constant.\" % constant_features_idx, UserWarning)\n",
      "/Users/Tomm/opt/anaconda3/envs/ORwDS_light/lib/python3.11/site-packages/sklearn/feature_selection/_univariate_selection.py:113: RuntimeWarning: invalid value encountered in divide\n",
      "  f = msb / msw\n",
      "/Users/Tomm/opt/anaconda3/envs/ORwDS_light/lib/python3.11/site-packages/sklearn/feature_selection/_univariate_selection.py:112: UserWarning: Features [1] are constant.\n",
      "  warnings.warn(\"Features %s are constant.\" % constant_features_idx, UserWarning)\n",
      "/Users/Tomm/opt/anaconda3/envs/ORwDS_light/lib/python3.11/site-packages/sklearn/feature_selection/_univariate_selection.py:113: RuntimeWarning: invalid value encountered in divide\n",
      "  f = msb / msw\n",
      "/Users/Tomm/opt/anaconda3/envs/ORwDS_light/lib/python3.11/site-packages/sklearn/feature_selection/_univariate_selection.py:112: UserWarning: Features [1] are constant.\n",
      "  warnings.warn(\"Features %s are constant.\" % constant_features_idx, UserWarning)\n",
      "/Users/Tomm/opt/anaconda3/envs/ORwDS_light/lib/python3.11/site-packages/sklearn/feature_selection/_univariate_selection.py:113: RuntimeWarning: invalid value encountered in divide\n",
      "  f = msb / msw\n",
      "/Users/Tomm/opt/anaconda3/envs/ORwDS_light/lib/python3.11/site-packages/sklearn/feature_selection/_univariate_selection.py:112: UserWarning: Features [1] are constant.\n",
      "  warnings.warn(\"Features %s are constant.\" % constant_features_idx, UserWarning)\n",
      "/Users/Tomm/opt/anaconda3/envs/ORwDS_light/lib/python3.11/site-packages/sklearn/feature_selection/_univariate_selection.py:113: RuntimeWarning: invalid value encountered in divide\n",
      "  f = msb / msw\n",
      "/Users/Tomm/opt/anaconda3/envs/ORwDS_light/lib/python3.11/site-packages/sklearn/feature_selection/_univariate_selection.py:112: UserWarning: Features [1] are constant.\n",
      "  warnings.warn(\"Features %s are constant.\" % constant_features_idx, UserWarning)\n",
      "/Users/Tomm/opt/anaconda3/envs/ORwDS_light/lib/python3.11/site-packages/sklearn/feature_selection/_univariate_selection.py:113: RuntimeWarning: invalid value encountered in divide\n",
      "  f = msb / msw\n",
      "/Users/Tomm/opt/anaconda3/envs/ORwDS_light/lib/python3.11/site-packages/sklearn/feature_selection/_univariate_selection.py:112: UserWarning: Features [1] are constant.\n",
      "  warnings.warn(\"Features %s are constant.\" % constant_features_idx, UserWarning)\n",
      "/Users/Tomm/opt/anaconda3/envs/ORwDS_light/lib/python3.11/site-packages/sklearn/feature_selection/_univariate_selection.py:113: RuntimeWarning: invalid value encountered in divide\n",
      "  f = msb / msw\n"
     ]
    },
    {
     "name": "stderr",
     "output_type": "stream",
     "text": [
      "/Users/Tomm/opt/anaconda3/envs/ORwDS_light/lib/python3.11/site-packages/sklearn/feature_selection/_univariate_selection.py:112: UserWarning: Features [1] are constant.\n",
      "  warnings.warn(\"Features %s are constant.\" % constant_features_idx, UserWarning)\n",
      "/Users/Tomm/opt/anaconda3/envs/ORwDS_light/lib/python3.11/site-packages/sklearn/feature_selection/_univariate_selection.py:113: RuntimeWarning: invalid value encountered in divide\n",
      "  f = msb / msw\n",
      "/Users/Tomm/opt/anaconda3/envs/ORwDS_light/lib/python3.11/site-packages/sklearn/feature_selection/_univariate_selection.py:112: UserWarning: Features [1] are constant.\n",
      "  warnings.warn(\"Features %s are constant.\" % constant_features_idx, UserWarning)\n",
      "/Users/Tomm/opt/anaconda3/envs/ORwDS_light/lib/python3.11/site-packages/sklearn/feature_selection/_univariate_selection.py:113: RuntimeWarning: invalid value encountered in divide\n",
      "  f = msb / msw\n",
      "/Users/Tomm/opt/anaconda3/envs/ORwDS_light/lib/python3.11/site-packages/sklearn/feature_selection/_univariate_selection.py:112: UserWarning: Features [1] are constant.\n",
      "  warnings.warn(\"Features %s are constant.\" % constant_features_idx, UserWarning)\n",
      "/Users/Tomm/opt/anaconda3/envs/ORwDS_light/lib/python3.11/site-packages/sklearn/feature_selection/_univariate_selection.py:113: RuntimeWarning: invalid value encountered in divide\n",
      "  f = msb / msw\n",
      "/Users/Tomm/opt/anaconda3/envs/ORwDS_light/lib/python3.11/site-packages/sklearn/feature_selection/_univariate_selection.py:112: UserWarning: Features [1] are constant.\n",
      "  warnings.warn(\"Features %s are constant.\" % constant_features_idx, UserWarning)\n",
      "/Users/Tomm/opt/anaconda3/envs/ORwDS_light/lib/python3.11/site-packages/sklearn/feature_selection/_univariate_selection.py:113: RuntimeWarning: invalid value encountered in divide\n",
      "  f = msb / msw\n",
      "/Users/Tomm/opt/anaconda3/envs/ORwDS_light/lib/python3.11/site-packages/sklearn/feature_selection/_univariate_selection.py:112: UserWarning: Features [1] are constant.\n",
      "  warnings.warn(\"Features %s are constant.\" % constant_features_idx, UserWarning)\n",
      "/Users/Tomm/opt/anaconda3/envs/ORwDS_light/lib/python3.11/site-packages/sklearn/feature_selection/_univariate_selection.py:113: RuntimeWarning: invalid value encountered in divide\n",
      "  f = msb / msw\n",
      "/Users/Tomm/opt/anaconda3/envs/ORwDS_light/lib/python3.11/site-packages/sklearn/feature_selection/_univariate_selection.py:112: UserWarning: Features [1] are constant.\n",
      "  warnings.warn(\"Features %s are constant.\" % constant_features_idx, UserWarning)\n",
      "/Users/Tomm/opt/anaconda3/envs/ORwDS_light/lib/python3.11/site-packages/sklearn/feature_selection/_univariate_selection.py:113: RuntimeWarning: invalid value encountered in divide\n",
      "  f = msb / msw\n",
      "/Users/Tomm/opt/anaconda3/envs/ORwDS_light/lib/python3.11/site-packages/sklearn/feature_selection/_univariate_selection.py:112: UserWarning: Features [1] are constant.\n",
      "  warnings.warn(\"Features %s are constant.\" % constant_features_idx, UserWarning)\n",
      "/Users/Tomm/opt/anaconda3/envs/ORwDS_light/lib/python3.11/site-packages/sklearn/feature_selection/_univariate_selection.py:113: RuntimeWarning: invalid value encountered in divide\n",
      "  f = msb / msw\n",
      "/Users/Tomm/opt/anaconda3/envs/ORwDS_light/lib/python3.11/site-packages/sklearn/feature_selection/_univariate_selection.py:112: UserWarning: Features [1] are constant.\n",
      "  warnings.warn(\"Features %s are constant.\" % constant_features_idx, UserWarning)\n",
      "/Users/Tomm/opt/anaconda3/envs/ORwDS_light/lib/python3.11/site-packages/sklearn/feature_selection/_univariate_selection.py:113: RuntimeWarning: invalid value encountered in divide\n",
      "  f = msb / msw\n"
     ]
    }
   ],
   "source": [
    "rankings_matrix = get_feature_matrix()"
   ]
  },
  {
   "cell_type": "markdown",
   "id": "e95e8ad2",
   "metadata": {},
   "source": [
    "## Calculating and plotting Borda scores"
   ]
  },
  {
   "cell_type": "code",
   "execution_count": 370,
   "id": "e15ffb5e",
   "metadata": {},
   "outputs": [],
   "source": [
    "def calculate_borda_scores(rankings_matrix, weights=None):\n",
    "    '''\n",
    "    I: ranking matrix from get_feature_matrix\n",
    "    I (optional) weights, array of floats from zero to one, represent the voting weight that particular feature selection method has\n",
    "    O: borda scores for all features in the data matrix\n",
    "    '''\n",
    "    num_features = len(rankings_matrix[0])\n",
    "    num_methods = len(rankings_matrix)\n",
    "    borda_scores = np.zeros(num_features)\n",
    "\n",
    "    if weights is None:\n",
    "        weights = np.ones(num_methods)\n",
    "\n",
    "    if len(weights) != num_methods:\n",
    "        raise ValueError(\"The number of weights must be equal to the number of methods.\")\n",
    "\n",
    "    for i, method_rankings in enumerate(rankings_matrix):\n",
    "        try:\n",
    "            # Calculate the scores for each feature based on its ranking in the method and apply weights\n",
    "            scores = weights[i] * (num_features - np.array(method_rankings))\n",
    "            borda_scores += scores\n",
    "        except ValueError as e:\n",
    "            print(\"Error:\", e)\n",
    "            print(\"Ensure that all feature rankings have the same number of features.\")\n",
    "            return None\n",
    "\n",
    "    return borda_scores"
   ]
  },
  {
   "cell_type": "code",
   "execution_count": 371,
   "id": "6556b7fa",
   "metadata": {},
   "outputs": [],
   "source": [
    "weights = [0.31412219, 0.86978109, 0.02877184, 0.25149087, 0.05472679,\n",
    "       0.77189679, 0.7694783 , 0.94683922, 0.41915218, 0.0572985 ]"
   ]
  },
  {
   "cell_type": "code",
   "execution_count": 372,
   "id": "e36612dd",
   "metadata": {},
   "outputs": [
    {
     "data": {
      "text/html": [
       "<div>\n",
       "<style scoped>\n",
       "    .dataframe tbody tr th:only-of-type {\n",
       "        vertical-align: middle;\n",
       "    }\n",
       "\n",
       "    .dataframe tbody tr th {\n",
       "        vertical-align: top;\n",
       "    }\n",
       "\n",
       "    .dataframe thead th {\n",
       "        text-align: right;\n",
       "    }\n",
       "</style>\n",
       "<table border=\"1\" class=\"dataframe\">\n",
       "  <thead>\n",
       "    <tr style=\"text-align: right;\">\n",
       "      <th></th>\n",
       "      <th>Feature Index</th>\n",
       "      <th>Borda Score</th>\n",
       "      <th>Feature Name</th>\n",
       "    </tr>\n",
       "  </thead>\n",
       "  <tbody>\n",
       "    <tr>\n",
       "      <th>11</th>\n",
       "      <td>11</td>\n",
       "      <td>320</td>\n",
       "      <td>a12</td>\n",
       "    </tr>\n",
       "    <tr>\n",
       "      <th>2</th>\n",
       "      <td>2</td>\n",
       "      <td>315</td>\n",
       "      <td>a03</td>\n",
       "    </tr>\n",
       "    <tr>\n",
       "      <th>0</th>\n",
       "      <td>0</td>\n",
       "      <td>310</td>\n",
       "      <td>a01</td>\n",
       "    </tr>\n",
       "    <tr>\n",
       "      <th>18</th>\n",
       "      <td>18</td>\n",
       "      <td>288</td>\n",
       "      <td>a19</td>\n",
       "    </tr>\n",
       "    <tr>\n",
       "      <th>33</th>\n",
       "      <td>33</td>\n",
       "      <td>281</td>\n",
       "      <td>a34</td>\n",
       "    </tr>\n",
       "    <tr>\n",
       "      <th>14</th>\n",
       "      <td>14</td>\n",
       "      <td>277</td>\n",
       "      <td>a15</td>\n",
       "    </tr>\n",
       "    <tr>\n",
       "      <th>19</th>\n",
       "      <td>19</td>\n",
       "      <td>260</td>\n",
       "      <td>a20</td>\n",
       "    </tr>\n",
       "    <tr>\n",
       "      <th>3</th>\n",
       "      <td>3</td>\n",
       "      <td>258</td>\n",
       "      <td>a04</td>\n",
       "    </tr>\n",
       "    <tr>\n",
       "      <th>1</th>\n",
       "      <td>1</td>\n",
       "      <td>255</td>\n",
       "      <td>a02</td>\n",
       "    </tr>\n",
       "    <tr>\n",
       "      <th>5</th>\n",
       "      <td>5</td>\n",
       "      <td>253</td>\n",
       "      <td>a06</td>\n",
       "    </tr>\n",
       "  </tbody>\n",
       "</table>\n",
       "</div>"
      ],
      "text/plain": [
       "    Feature Index  Borda Score Feature Name\n",
       "11             11          320          a12\n",
       "2               2          315          a03\n",
       "0               0          310          a01\n",
       "18             18          288          a19\n",
       "33             33          281          a34\n",
       "14             14          277          a15\n",
       "19             19          260          a20\n",
       "3               3          258          a04\n",
       "1               1          255          a02\n",
       "5               5          253          a06"
      ]
     },
     "execution_count": 372,
     "metadata": {},
     "output_type": "execute_result"
    }
   ],
   "source": [
    "# Calculate the Borda count scores for each feature\n",
    "borda_scores = calculate_borda_scores(rankings_matrix, None)\n",
    "\n",
    "# Create a DataFrame to organize the results\n",
    "results_df = pd.DataFrame({\n",
    "    \"Feature Index\": range(len(borda_scores)),\n",
    "    \"Borda Score\": [int(score) for score in borda_scores],\n",
    "    \"Feature Name\": [feat_names[i] for i in range(len(borda_scores))]\n",
    "})\n",
    "\n",
    "# Sort the DataFrame based on the Borda scores in descending order\n",
    "results_df = results_df.sort_values(by=\"Borda Score\", ascending=False)\n",
    "\n",
    "# Display the first ten scores\n",
    "results_df.head(10)"
   ]
  },
  {
   "cell_type": "markdown",
   "id": "f6570426",
   "metadata": {},
   "source": [
    "### For saving things"
   ]
  },
  {
   "cell_type": "markdown",
   "id": "3f2ccc94",
   "metadata": {},
   "source": [
    "np.savetxt(\"rankings_matrix.csv\", rankings_matrix, delimiter=\",\")"
   ]
  },
  {
   "cell_type": "markdown",
   "id": "57e384a5",
   "metadata": {},
   "source": [
    "results_df.to_csv('borda_scores.csv', index=False)"
   ]
  },
  {
   "cell_type": "code",
   "execution_count": 373,
   "id": "9c9aa56d",
   "metadata": {},
   "outputs": [
    {
     "data": {
      "image/png": "[encoded data removed]",
      "text/plain": [
       "<Figure size 960x480 with 1 Axes>"
      ]
     },
     "metadata": {},
     "output_type": "display_data"
    }
   ],
   "source": [
    "# Assuming you have a DataFrame called 'df' with columns 'Feature Index', 'Borda Score', and 'Feature Name'\n",
    "# Sort the DataFrame by 'Borda Score' in descending order\n",
    "df_sorted = results_df.sort_values(by='Borda Score', ascending=False)\n",
    "\n",
    "# Partition the features into 3 sets based on the sorted Borda scores\n",
    "num_features = len(df_sorted)\n",
    "num_features_per_set = num_features // 3\n",
    "set1 = df_sorted.iloc[:num_features_per_set]\n",
    "set2 = df_sorted.iloc[num_features_per_set:2*num_features_per_set]\n",
    "set3 = df_sorted.iloc[2*num_features_per_set:]\n",
    "\n",
    "# Create the bar plot with different colors for each set\n",
    "plt.figure(figsize=(12, 6))  # Adjust the figure size as per your requirement\n",
    "\n",
    "plt.bar(set1['Feature Name'], set1['Borda Score'], color='darkgreen', label='$\\mathcal{B}$')\n",
    "plt.bar(set2['Feature Name'], set2['Borda Score'], color='cornflowerblue', label='$\\mathcal{G}$')\n",
    "plt.bar(set3['Feature Name'], set3['Borda Score'], color='firebrick', label='$\\mathcal{W}$')\n",
    "\n",
    "# Set x-axis labels with rotation for better visibility\n",
    "plt.xticks(rotation=45, ha='right')\n",
    "\n",
    "# Set axis labels and title\n",
    "plt.ylabel('Borda Score')\n",
    "\n",
    "# Add a legend\n",
    "plt.legend()\n",
    "\n",
    "# Show the plot\n",
    "plt.tight_layout()\n",
    "\n",
    "plt.savefig(f\"borda_scores_vodafone.pdf\", bbox_inches='tight', format=\"pdf\", dpi=1200)\n",
    "plt.show()\n"
   ]
  },
  {
   "cell_type": "markdown",
   "id": "9c9b6967",
   "metadata": {},
   "source": [
    "## Partition Borda scores, save as numpy arrays"
   ]
  },
  {
   "cell_type": "code",
   "execution_count": 374,
   "id": "bb041c42",
   "metadata": {},
   "outputs": [],
   "source": [
    "def partition_borda_scores(borda_scores):\n",
    "    '''\n",
    "    Partitions feature set into three equal sets based on Borda scores\n",
    "    '''\n",
    "    # Get the feature indices sorted based on Borda scores (in descending order)\n",
    "    sorted_indices = sorted(range(len(borda_scores)), key=lambda x: borda_scores[x], reverse=True)\n",
    "\n",
    "    # Calculate the size of each set (best, good, worst) to achieve roughly equal partitions\n",
    "    set_size = len(sorted_indices) // 3\n",
    "    remaining = len(sorted_indices) % 3\n",
    "\n",
    "    # Partition the indices into three sets\n",
    "    best_features = sorted_indices[:set_size + remaining]\n",
    "    good_features = sorted_indices[set_size + remaining: 2 * (set_size + remaining)]\n",
    "    worst_features = sorted_indices[2 * (set_size + remaining):]\n",
    "\n",
    "    psi = [best_features,good_features,worst_features]\n",
    "\n",
    "    ordered = [np.unique(feat_set) for feat_set in psi]\n",
    "\n",
    "    return ordered[0], ordered[1], ordered[2]"
   ]
  },
  {
   "cell_type": "code",
   "execution_count": 375,
   "id": "b832cbd9",
   "metadata": {},
   "outputs": [],
   "source": [
    "best_features, good_features, worst_features = partition_borda_scores(borda_scores)"
   ]
  },
  {
   "cell_type": "code",
   "execution_count": 376,
   "id": "73f19717",
   "metadata": {},
   "outputs": [],
   "source": [
    "# Get indices in order\n",
    "\n",
    "psi = [best_features,good_features,worst_features]\n",
    "\n",
    "ordered = [np.unique(feat_set) for feat_set in psi]\n",
    "    \n",
    "np.savetxt(f\"UCI/{data_set}/best.csv\", ordered[0], delimiter=\",\")\n",
    "np.savetxt(f\"UCI/{data_set}/good.csv\", ordered[1], delimiter=\",\")\n",
    "np.savetxt(f\"UCI/{data_set}/worst.csv\", ordered[2], delimiter=\",\")"
   ]
  },
  {
   "cell_type": "markdown",
   "id": "37b79038",
   "metadata": {},
   "source": [
    "## Showing all partitions"
   ]
  },
  {
   "cell_type": "code",
   "execution_count": 377,
   "id": "7eec750f",
   "metadata": {},
   "outputs": [
    {
     "name": "stdout",
     "output_type": "stream",
     "text": [
      "This workbook found this many best features: 12 \n",
      "\n",
      "These are the indices of the best features: [0, 1, 2, 3, 5, 11, 13, 14, 15, 18, 19, 33] \n",
      "\n",
      "These are the feature names of the best features: ['a01' 'a02' 'a03' 'a04' 'a06' 'a12' 'a14' 'a15' 'a16' 'a19' 'a20' 'a34']\n"
     ]
    }
   ],
   "source": [
    "print(f\"This workbook found this many best features: {len(best_features)} \\n\")\n",
    "print(f\"These are the indices of the best features: {list(best_features)} \\n\")\n",
    "print(f\"These are the feature names of the best features: {feat_names[best_features]}\")\n"
   ]
  },
  {
   "cell_type": "code",
   "execution_count": 378,
   "id": "2dca095c",
   "metadata": {},
   "outputs": [
    {
     "name": "stdout",
     "output_type": "stream",
     "text": [
      "This workbook found this many unique good features: 12 \n",
      "\n",
      "These are the indices of the good features: [ 4  8  9 10 20 21 22 23 26 28 29 31] \n",
      "\n",
      "These are the feature names of the good features: ['a05' 'a09' 'a10' 'a11' 'a21' 'a22' 'a23' 'a24' 'a27' 'a29' 'a30' 'a32']\n"
     ]
    }
   ],
   "source": [
    "print(f\"This workbook found this many unique good features: {len(good_features)} \\n\")\n",
    "print(f\"These are the indices of the good features: {good_features} \\n\")\n",
    "print(f\"These are the feature names of the good features: {feat_names[good_features]}\")\n"
   ]
  },
  {
   "cell_type": "code",
   "execution_count": 379,
   "id": "4460e4fa",
   "metadata": {},
   "outputs": [
    {
     "name": "stdout",
     "output_type": "stream",
     "text": [
      "This workbook found this many unique worst features: 10 \n",
      "\n",
      "These are the indices of the worst features: [ 6  7 12 16 17 24 25 27 30 32] \n",
      "\n",
      "These are the feature names of the worst features: ['a07' 'a08' 'a13' 'a17' 'a18' 'a25' 'a26' 'a28' 'a31' 'a33']\n"
     ]
    }
   ],
   "source": [
    "print(f\"This workbook found this many unique worst features: {len(worst_features)} \\n\")\n",
    "print(f\"These are the indices of the worst features: {worst_features} \\n\")\n",
    "print(f\"These are the feature names of the worst features: {feat_names[worst_features]}\")\n"
   ]
  }
 ],
 "metadata": {
  "kernelspec": {
   "display_name": "Python 3 (ipykernel)",
   "language": "python",
   "name": "python3"
  },
  "language_info": {
   "codemirror_mode": {
    "name": "ipython",
    "version": 3
   },
   "file_extension": ".py",
   "mimetype": "text/x-python",
   "name": "python",
   "nbconvert_exporter": "python",
   "pygments_lexer": "ipython3",
   "version": "3.11.3"
  }
 },
 "nbformat": 4,
 "nbformat_minor": 5
}
