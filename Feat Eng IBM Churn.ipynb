{
 "cells": [
  {
   "cell_type": "code",
   "execution_count": 199,
   "id": "1eb68cbb",
   "metadata": {},
   "outputs": [],
   "source": [
    "import pandas as pd\n",
    "import numpy as np\n",
    "import pygmo as pg\n",
    "import random\n",
    "import functools\n",
    "import math as m\n",
    "import copy\n",
    "from numpy import genfromtxt\n",
    "\n",
    "# Geometry modules\n",
    "from shapely.geometry import Point\n",
    "from shapely.geometry.polygon import Polygon\n",
    "\n",
    "# Plotting libraries\n",
    "import matplotlib\n",
    "import matplotlib.pyplot as plt\n",
    "import matplotlib.ticker as mtick\n",
    "import matplotlib.patches as patches \n",
    "import seaborn as sns\n",
    "\n",
    "# Misc\n",
    "import time \n",
    "from time import process_time\n",
    "from scipy.spatial import distance_matrix\n",
    "from scipy.spatial import ConvexHull\n",
    "import secrets\n",
    "\n",
    "# skopt\n",
    "from skopt.space import Real, Categorical, Integer\n",
    "from skopt import BayesSearchCV, space, plots\n",
    "from skopt.utils import use_named_args\n",
    "from skopt.plots import plot_convergence\n",
    "from skopt import gp_minimize\n",
    "\n",
    "# sklearn modules\n",
    "from sklearn.metrics import accuracy_score, mean_squared_error, roc_auc_score, roc_curve\n",
    "from sklearn.metrics import RocCurveDisplay, precision_recall_curve, recall_score\n",
    "from sklearn.metrics import make_scorer, precision_score, classification_report\n",
    "from sklearn.metrics import confusion_matrix, f1_score\n",
    "from sklearn.pipeline import Pipeline\n",
    "from sklearn.model_selection import train_test_split, GridSearchCV, cross_validate, cross_val_score\n",
    "from sklearn.preprocessing import OneHotEncoder, StandardScaler, MinMaxScaler\n",
    "from sklearn.inspection import permutation_importance\n",
    "from sklearn import datasets\n",
    "from sklearn.svm import SVC\n",
    "from sklearn.compose import ColumnTransformer\n",
    "from sklearn.metrics import make_scorer\n",
    "from sklearn.linear_model import LogisticRegressionCV\n",
    "\n",
    "from sklearn.utils._testing import ignore_warnings\n",
    "from sklearn.exceptions import ConvergenceWarning\n",
    "\n",
    "from sklearn.linear_model import LogisticRegression\n",
    "from sklearn.linear_model import LinearRegression\n",
    "from sklearn.svm import SVC\n",
    "from sklearn.tree import DecisionTreeClassifier\n",
    "from sklearn.ensemble import GradientBoostingClassifier, RandomForestClassifier\n",
    "from sklearn.naive_bayes import GaussianNB \n",
    "from skfeature.function.similarity_based import fisher_score\n",
    "\n",
    "# For ignoring warnings about bad classifiers - it's the nature of the algorithm to come across these\n",
    "import warnings\n",
    "from sklearn.exceptions import ConvergenceWarning\n",
    "warnings.filterwarnings(\"ignore\", category=ConvergenceWarning)\n",
    "\n",
    "from sklearn.impute import SimpleImputer\n",
    "import sklearn_relief as relief\n",
    "\n",
    "\n",
    "# Matplotlib configuration\n",
    "%matplotlib inline\n",
    "plt.rcParams['figure.figsize'] = (8,6)\n",
    "plt.rcParams['figure.dpi'] = 80\n",
    "plt.rc('axes', titlesize=12)\n",
    "plt.rc('axes', labelsize=12)\n",
    "\n",
    "matplotlib.rcParams['mathtext.fontset'] = 'stix'\n",
    "matplotlib.rcParams['font.family'] = 'STIXGeneral'"
   ]
  },
  {
   "cell_type": "code",
   "execution_count": 200,
   "id": "de8b538b",
   "metadata": {},
   "outputs": [
    {
     "data": {
      "text/plain": [
       "(7043, 45)"
      ]
     },
     "execution_count": 200,
     "metadata": {},
     "output_type": "execute_result"
    }
   ],
   "source": [
    "df = pd.read_csv(r'churn_new.csv')\n",
    "df = df.drop(['Customer ID'], axis=1)\n",
    "df.shape"
   ]
  },
  {
   "cell_type": "markdown",
   "id": "3defaa85",
   "metadata": {},
   "source": [
    "### Replace spaces with underscores"
   ]
  },
  {
   "cell_type": "code",
   "execution_count": 201,
   "id": "7eebc3b3",
   "metadata": {},
   "outputs": [],
   "source": [
    "def replace_spaces_with_underscores(dataframe):\n",
    "    new_columns = [column.replace(\" \", \"_\") for column in dataframe.columns]\n",
    "    dataframe.columns = new_columns\n",
    "    return dataframe"
   ]
  },
  {
   "cell_type": "code",
   "execution_count": 202,
   "id": "f877dc71",
   "metadata": {},
   "outputs": [],
   "source": [
    "df = replace_spaces_with_underscores(df)"
   ]
  },
  {
   "cell_type": "markdown",
   "id": "4fbd8f9f",
   "metadata": {},
   "source": [
    "### Imbalance"
   ]
  },
  {
   "cell_type": "code",
   "execution_count": 203,
   "id": "8a403492",
   "metadata": {},
   "outputs": [
    {
     "data": {
      "text/plain": [
       "0    5174\n",
       "1    1869\n",
       "Name: Churn_Value, dtype: int64"
      ]
     },
     "execution_count": 203,
     "metadata": {},
     "output_type": "execute_result"
    }
   ],
   "source": [
    "df['Churn_Value'].value_counts()"
   ]
  },
  {
   "cell_type": "code",
   "execution_count": 204,
   "id": "4829333e",
   "metadata": {},
   "outputs": [
    {
     "name": "stdout",
     "output_type": "stream",
     "text": [
      "Imbalance: the class of interest is 27.0% of the dataset\n"
     ]
    }
   ],
   "source": [
    "imb = df['Churn_Value'].value_counts()[1]/df.shape[0]\n",
    "print(f\"Imbalance: the class of interest is {np.round(imb,2)*100}% of the dataset\")"
   ]
  },
  {
   "cell_type": "markdown",
   "id": "26ee97f8",
   "metadata": {},
   "source": [
    "### Finding NaNs"
   ]
  },
  {
   "cell_type": "code",
   "execution_count": 205,
   "id": "741fec6c",
   "metadata": {},
   "outputs": [],
   "source": [
    "def print_columns_with_nas(dataframe):\n",
    "    columns_with_nas = dataframe.columns[dataframe.isna().any()].tolist()\n",
    "\n",
    "    if not columns_with_nas:\n",
    "        print(\"No columns with NAs found.\")\n",
    "        return\n",
    "\n",
    "    for column in columns_with_nas:\n",
    "        na_count = dataframe[column].isna().sum()\n",
    "        print(f\"Column '{column}' has {na_count} NaN(s).\")\n"
   ]
  },
  {
   "cell_type": "code",
   "execution_count": 206,
   "id": "d04653d9",
   "metadata": {},
   "outputs": [
    {
     "name": "stdout",
     "output_type": "stream",
     "text": [
      "Column 'Churn_Category' has 5174 NaN(s).\n",
      "Column 'Churn_Reason' has 5174 NaN(s).\n",
      "Column 'Customer_Satisfaction' has 5209 NaN(s).\n"
     ]
    }
   ],
   "source": [
    "print_columns_with_nas(df)"
   ]
  },
  {
   "cell_type": "markdown",
   "id": "b6d82302",
   "metadata": {},
   "source": [
    "### Cutting features matrix"
   ]
  },
  {
   "cell_type": "code",
   "execution_count": 207,
   "id": "73a01d04",
   "metadata": {},
   "outputs": [],
   "source": [
    "X = df.drop(['Churn_Value'],axis=1).copy()\n",
    "y = df.Churn_Value.copy()"
   ]
  },
  {
   "cell_type": "code",
   "execution_count": 208,
   "id": "4ca52061",
   "metadata": {},
   "outputs": [
    {
     "name": "stdout",
     "output_type": "stream",
     "text": [
      "Index(['Referred_a_Friend', 'Offer', 'Phone_Service', 'Multiple_Lines',\n",
      "       'Internet_Service', 'Internet_Type', 'Online_Security', 'Online_Backup',\n",
      "       'Device_Protection_Plan', 'Premium_Tech_Support', 'Streaming_TV',\n",
      "       'Streaming_Movies', 'Streaming_Music', 'Unlimited_Data', 'Contract',\n",
      "       'Paperless_Billing', 'Payment_Method', 'Gender', 'Under_30',\n",
      "       'Senior_Citizen', 'Married', 'Dependents', 'City', 'Churn_Category',\n",
      "       'Churn_Reason'],\n",
      "      dtype='object')\n"
     ]
    }
   ],
   "source": [
    "object_cols = X.select_dtypes(include='object').columns\n",
    "\n",
    "print(object_cols)"
   ]
  },
  {
   "cell_type": "code",
   "execution_count": 209,
   "id": "17fee574",
   "metadata": {},
   "outputs": [
    {
     "name": "stdout",
     "output_type": "stream",
     "text": [
      "Index(['Number_of_Referrals', 'Tenure_in_Months',\n",
      "       'Avg_Monthly_Long_Distance_Charges', 'Avg_Monthly_GB_Download',\n",
      "       'Monthly_Charge', 'Total_Regular_Charges', 'Total_Refunds',\n",
      "       'Total_Extra_Data_Charges', 'Total_Long_Distance_Charges', 'Age',\n",
      "       'Number_of_Dependents', 'Zip_Code', 'Latitude', 'Longitude',\n",
      "       'Population', 'CLTV', 'Total_Customer_Svc_Requests',\n",
      "       'Product/Service_Issues_Reported', 'Customer_Satisfaction'],\n",
      "      dtype='object')\n"
     ]
    }
   ],
   "source": [
    "number_cols = X.select_dtypes(include=['int','float']).columns\n",
    "print(number_cols)"
   ]
  },
  {
   "cell_type": "code",
   "execution_count": 210,
   "id": "4849e465",
   "metadata": {},
   "outputs": [],
   "source": [
    "def get_unique_values_count(dataframe):\n",
    "    unique_values_counts = dataframe.nunique().reset_index()\n",
    "    unique_values_counts.columns = ['Column', 'Unique_Values_Count']\n",
    "    return unique_values_counts"
   ]
  },
  {
   "cell_type": "code",
   "execution_count": 211,
   "id": "707b4c6b",
   "metadata": {},
   "outputs": [],
   "source": [
    "object_cols_str = list(object_cols)"
   ]
  },
  {
   "cell_type": "code",
   "execution_count": 212,
   "id": "6e74d528",
   "metadata": {},
   "outputs": [
    {
     "data": {
      "text/html": [
       "<div>\n",
       "<style scoped>\n",
       "    .dataframe tbody tr th:only-of-type {\n",
       "        vertical-align: middle;\n",
       "    }\n",
       "\n",
       "    .dataframe tbody tr th {\n",
       "        vertical-align: top;\n",
       "    }\n",
       "\n",
       "    .dataframe thead th {\n",
       "        text-align: right;\n",
       "    }\n",
       "</style>\n",
       "<table border=\"1\" class=\"dataframe\">\n",
       "  <thead>\n",
       "    <tr style=\"text-align: right;\">\n",
       "      <th></th>\n",
       "      <th>Column</th>\n",
       "      <th>Unique_Values_Count</th>\n",
       "    </tr>\n",
       "  </thead>\n",
       "  <tbody>\n",
       "    <tr>\n",
       "      <th>0</th>\n",
       "      <td>Referred_a_Friend</td>\n",
       "      <td>2</td>\n",
       "    </tr>\n",
       "    <tr>\n",
       "      <th>1</th>\n",
       "      <td>Offer</td>\n",
       "      <td>6</td>\n",
       "    </tr>\n",
       "    <tr>\n",
       "      <th>2</th>\n",
       "      <td>Phone_Service</td>\n",
       "      <td>2</td>\n",
       "    </tr>\n",
       "    <tr>\n",
       "      <th>3</th>\n",
       "      <td>Multiple_Lines</td>\n",
       "      <td>2</td>\n",
       "    </tr>\n",
       "    <tr>\n",
       "      <th>4</th>\n",
       "      <td>Internet_Service</td>\n",
       "      <td>2</td>\n",
       "    </tr>\n",
       "    <tr>\n",
       "      <th>5</th>\n",
       "      <td>Internet_Type</td>\n",
       "      <td>4</td>\n",
       "    </tr>\n",
       "    <tr>\n",
       "      <th>6</th>\n",
       "      <td>Online_Security</td>\n",
       "      <td>2</td>\n",
       "    </tr>\n",
       "    <tr>\n",
       "      <th>7</th>\n",
       "      <td>Online_Backup</td>\n",
       "      <td>2</td>\n",
       "    </tr>\n",
       "    <tr>\n",
       "      <th>8</th>\n",
       "      <td>Device_Protection_Plan</td>\n",
       "      <td>2</td>\n",
       "    </tr>\n",
       "    <tr>\n",
       "      <th>9</th>\n",
       "      <td>Premium_Tech_Support</td>\n",
       "      <td>2</td>\n",
       "    </tr>\n",
       "    <tr>\n",
       "      <th>10</th>\n",
       "      <td>Streaming_TV</td>\n",
       "      <td>2</td>\n",
       "    </tr>\n",
       "    <tr>\n",
       "      <th>11</th>\n",
       "      <td>Streaming_Movies</td>\n",
       "      <td>2</td>\n",
       "    </tr>\n",
       "    <tr>\n",
       "      <th>12</th>\n",
       "      <td>Streaming_Music</td>\n",
       "      <td>2</td>\n",
       "    </tr>\n",
       "    <tr>\n",
       "      <th>13</th>\n",
       "      <td>Unlimited_Data</td>\n",
       "      <td>2</td>\n",
       "    </tr>\n",
       "    <tr>\n",
       "      <th>14</th>\n",
       "      <td>Contract</td>\n",
       "      <td>3</td>\n",
       "    </tr>\n",
       "    <tr>\n",
       "      <th>15</th>\n",
       "      <td>Paperless_Billing</td>\n",
       "      <td>2</td>\n",
       "    </tr>\n",
       "    <tr>\n",
       "      <th>16</th>\n",
       "      <td>Payment_Method</td>\n",
       "      <td>3</td>\n",
       "    </tr>\n",
       "    <tr>\n",
       "      <th>17</th>\n",
       "      <td>Gender</td>\n",
       "      <td>2</td>\n",
       "    </tr>\n",
       "    <tr>\n",
       "      <th>18</th>\n",
       "      <td>Under_30</td>\n",
       "      <td>2</td>\n",
       "    </tr>\n",
       "    <tr>\n",
       "      <th>19</th>\n",
       "      <td>Senior_Citizen</td>\n",
       "      <td>2</td>\n",
       "    </tr>\n",
       "    <tr>\n",
       "      <th>20</th>\n",
       "      <td>Married</td>\n",
       "      <td>2</td>\n",
       "    </tr>\n",
       "    <tr>\n",
       "      <th>21</th>\n",
       "      <td>Dependents</td>\n",
       "      <td>2</td>\n",
       "    </tr>\n",
       "    <tr>\n",
       "      <th>22</th>\n",
       "      <td>City</td>\n",
       "      <td>1106</td>\n",
       "    </tr>\n",
       "    <tr>\n",
       "      <th>23</th>\n",
       "      <td>Churn_Category</td>\n",
       "      <td>5</td>\n",
       "    </tr>\n",
       "    <tr>\n",
       "      <th>24</th>\n",
       "      <td>Churn_Reason</td>\n",
       "      <td>20</td>\n",
       "    </tr>\n",
       "  </tbody>\n",
       "</table>\n",
       "</div>"
      ],
      "text/plain": [
       "                    Column  Unique_Values_Count\n",
       "0        Referred_a_Friend                    2\n",
       "1                    Offer                    6\n",
       "2            Phone_Service                    2\n",
       "3           Multiple_Lines                    2\n",
       "4         Internet_Service                    2\n",
       "5            Internet_Type                    4\n",
       "6          Online_Security                    2\n",
       "7            Online_Backup                    2\n",
       "8   Device_Protection_Plan                    2\n",
       "9     Premium_Tech_Support                    2\n",
       "10            Streaming_TV                    2\n",
       "11        Streaming_Movies                    2\n",
       "12         Streaming_Music                    2\n",
       "13          Unlimited_Data                    2\n",
       "14                Contract                    3\n",
       "15       Paperless_Billing                    2\n",
       "16          Payment_Method                    3\n",
       "17                  Gender                    2\n",
       "18                Under_30                    2\n",
       "19          Senior_Citizen                    2\n",
       "20                 Married                    2\n",
       "21              Dependents                    2\n",
       "22                    City                 1106\n",
       "23          Churn_Category                    5\n",
       "24            Churn_Reason                   20"
      ]
     },
     "execution_count": 212,
     "metadata": {},
     "output_type": "execute_result"
    }
   ],
   "source": [
    "get_unique_values_count(X[object_cols_str])"
   ]
  },
  {
   "cell_type": "code",
   "execution_count": 213,
   "id": "0bbb80ba",
   "metadata": {},
   "outputs": [
    {
     "data": {
      "text/plain": [
       "(7043, 40)"
      ]
     },
     "execution_count": 213,
     "metadata": {},
     "output_type": "execute_result"
    }
   ],
   "source": [
    "drop_these = ['City', 'Churn_Reason', 'Latitude', 'Longitude']\n",
    "X = X.drop(drop_these,axis=1)\n",
    "X.shape"
   ]
  },
  {
   "cell_type": "code",
   "execution_count": 214,
   "id": "37dbb98e",
   "metadata": {},
   "outputs": [
    {
     "data": {
      "text/plain": [
       "(7043, 51)"
      ]
     },
     "execution_count": 214,
     "metadata": {},
     "output_type": "execute_result"
    }
   ],
   "source": [
    "X_encoded = pd.get_dummies(X, drop_first=True)\n",
    "X_encoded.shape"
   ]
  },
  {
   "cell_type": "code",
   "execution_count": 215,
   "id": "e26dac61",
   "metadata": {},
   "outputs": [
    {
     "data": {
      "text/plain": [
       "(7043,)"
      ]
     },
     "execution_count": 215,
     "metadata": {},
     "output_type": "execute_result"
    }
   ],
   "source": [
    "y.shape"
   ]
  },
  {
   "cell_type": "markdown",
   "id": "11c52ac6",
   "metadata": {},
   "source": [
    "## Train test split"
   ]
  },
  {
   "cell_type": "code",
   "execution_count": 216,
   "id": "8438d1e4",
   "metadata": {},
   "outputs": [],
   "source": [
    "X_train, X_test, y_train, y_test = train_test_split(X_encoded,y,test_size=0.2,random_state=42)"
   ]
  },
  {
   "cell_type": "code",
   "execution_count": 217,
   "id": "cf847631",
   "metadata": {},
   "outputs": [],
   "source": [
    "feature_names = list(X_train.columns)"
   ]
  },
  {
   "cell_type": "markdown",
   "id": "694a5d13",
   "metadata": {},
   "source": [
    "### Fill NAs now to prevent data leakage"
   ]
  },
  {
   "cell_type": "code",
   "execution_count": 218,
   "id": "80763cf2",
   "metadata": {},
   "outputs": [
    {
     "data": {
      "text/plain": [
       "Index(['Number_of_Referrals', 'Tenure_in_Months',\n",
       "       'Avg_Monthly_Long_Distance_Charges', 'Avg_Monthly_GB_Download',\n",
       "       'Monthly_Charge', 'Total_Regular_Charges', 'Total_Refunds',\n",
       "       'Total_Extra_Data_Charges', 'Total_Long_Distance_Charges', 'Age',\n",
       "       'Number_of_Dependents', 'Zip_Code', 'Population', 'CLTV',\n",
       "       'Total_Customer_Svc_Requests', 'Product/Service_Issues_Reported',\n",
       "       'Customer_Satisfaction', 'Referred_a_Friend_Yes', 'Offer_Offer A',\n",
       "       'Offer_Offer B', 'Offer_Offer C', 'Offer_Offer D', 'Offer_Offer E',\n",
       "       'Phone_Service_Yes', 'Multiple_Lines_Yes', 'Internet_Service_Yes',\n",
       "       'Internet_Type_DSL', 'Internet_Type_Fiber Optic', 'Internet_Type_None',\n",
       "       'Online_Security_Yes', 'Online_Backup_Yes',\n",
       "       'Device_Protection_Plan_Yes', 'Premium_Tech_Support_Yes',\n",
       "       'Streaming_TV_Yes', 'Streaming_Movies_Yes', 'Streaming_Music_Yes',\n",
       "       'Unlimited_Data_Yes', 'Contract_One Year', 'Contract_Two Year',\n",
       "       'Paperless_Billing_Yes', 'Payment_Method_Credit Card',\n",
       "       'Payment_Method_Mailed Check', 'Gender_Male', 'Under_30_Yes',\n",
       "       'Senior_Citizen_Yes', 'Married_Yes', 'Dependents_Yes',\n",
       "       'Churn_Category_Competitor', 'Churn_Category_Dissatisfaction',\n",
       "       'Churn_Category_Other', 'Churn_Category_Price'],\n",
       "      dtype='object')"
      ]
     },
     "execution_count": 218,
     "metadata": {},
     "output_type": "execute_result"
    }
   ],
   "source": [
    "X_train.columns"
   ]
  },
  {
   "cell_type": "markdown",
   "id": "f8311628",
   "metadata": {},
   "source": [
    "### Impute now to prevent data leakage"
   ]
  },
  {
   "cell_type": "code",
   "execution_count": 219,
   "id": "0cfdcf68",
   "metadata": {},
   "outputs": [
    {
     "data": {
      "text/plain": [
       "3.0    675\n",
       "4.0    380\n",
       "1.0    332\n",
       "5.0    247\n",
       "2.0    200\n",
       "Name: Customer_Satisfaction, dtype: int64"
      ]
     },
     "execution_count": 219,
     "metadata": {},
     "output_type": "execute_result"
    }
   ],
   "source": [
    "df['Customer_Satisfaction'].value_counts()"
   ]
  },
  {
   "cell_type": "code",
   "execution_count": 220,
   "id": "2517b1bd",
   "metadata": {},
   "outputs": [],
   "source": [
    "imputer = SimpleImputer(strategy='mean')\n",
    "\n",
    "satisf_train = X_train['Customer_Satisfaction'].values.reshape(-1, 1)\n",
    "satisf_test = X_test['Customer_Satisfaction'].values.reshape(-1, 1)\n",
    "\n",
    "# Fit and transform the data\n",
    "imputed_ = imputer.fit_transform(satisf_train)\n",
    "imputed = imputer.fit_transform(satisf_test)\n",
    "\n",
    "X_train['Customer_Satisfaction'] = imputed_\n",
    "X_test['Customer_Satisfaction'] = imputed"
   ]
  },
  {
   "cell_type": "code",
   "execution_count": 221,
   "id": "755fcdb2",
   "metadata": {},
   "outputs": [
    {
     "name": "stdout",
     "output_type": "stream",
     "text": [
      "No columns with NAs found.\n",
      "No columns with NAs found.\n"
     ]
    }
   ],
   "source": [
    "print_columns_with_nas(X_train)\n",
    "print_columns_with_nas(X_test)"
   ]
  },
  {
   "cell_type": "markdown",
   "id": "f95a1803",
   "metadata": {},
   "source": [
    "### Saving this split"
   ]
  },
  {
   "cell_type": "code",
   "execution_count": 222,
   "id": "e4f6c0e5",
   "metadata": {},
   "outputs": [],
   "source": [
    "X_train.to_csv('UCI/churn/X_train.csv', index=False)\n",
    "X_test.to_csv('UCI/churn/X_test.csv', index=False)"
   ]
  },
  {
   "cell_type": "code",
   "execution_count": 223,
   "id": "e3cc26bf",
   "metadata": {},
   "outputs": [],
   "source": [
    "y_train = np.ravel(y_train)\n",
    "np.savetxt('UCI/churn/y_train.csv', y_train, delimiter=\",\")\n",
    "y_test = np.ravel(y_test)\n",
    "np.savetxt('UCI/churn/y_test.csv', y_test, delimiter=\",\")"
   ]
  },
  {
   "cell_type": "markdown",
   "id": "b814d0e7",
   "metadata": {},
   "source": [
    "### Declaring some important information for easy reference"
   ]
  },
  {
   "cell_type": "code",
   "execution_count": 77,
   "id": "c7d972f1",
   "metadata": {},
   "outputs": [],
   "source": [
    "# Number of features in model\n",
    "total_features = int(X_train.shape[1])\n",
    "\n",
    "# Feature names\n",
    "feat_names = np.asarray(list(X_train.columns))\n",
    "\n",
    "# Make list of indices of all features\n",
    "feat_indices = np.asarray(list(range(total_features)))"
   ]
  },
  {
   "cell_type": "markdown",
   "id": "5751527a",
   "metadata": {},
   "source": [
    "## Model Exploration"
   ]
  },
  {
   "cell_type": "code",
   "execution_count": 78,
   "id": "df5d428c",
   "metadata": {},
   "outputs": [],
   "source": [
    "# Set of learning algorithms\n",
    "model_dict = {\n",
    "    \"SVC lin\": SVC(random_state=42,kernel='linear',max_iter=int(1e4), probability=True),\n",
    "    \"SVC rbf\": SVC(random_state=42,kernel='rbf',max_iter=int(1e4), probability=True),\n",
    "    \"Log lasso\": LogisticRegression(random_state=42,penalty='l1', solver = 'liblinear'),\n",
    "    \"Log ridge\": LogisticRegression(random_state=42,penalty='l2'),\n",
    "    \"Dec trees\": DecisionTreeClassifier(random_state=42),\n",
    "    \"Grad boost\": GradientBoostingClassifier(n_estimators=100, learning_rate=1.0, max_depth=1, random_state=42),\n",
    "    \"Rand forest\": RandomForestClassifier(max_depth=2, random_state=42)\n",
    "}"
   ]
  },
  {
   "cell_type": "code",
   "execution_count": 79,
   "id": "e9471243",
   "metadata": {},
   "outputs": [],
   "source": [
    "def MatthewsCorrelation(confmat):\n",
    "    '''\n",
    "    Calculates the Matthews Correlation coefficient based on confusion matrix elements.\n",
    "    '''\n",
    "    \n",
    "    # Decompose confusion mattrix elements\n",
    "    [[tn, fp],[fn, tp]] = confmat\n",
    "    \n",
    "    # Calculate Matthew's Correlation Coefficient\n",
    "    mc_coef = ((tp*tn) - (fp*fn)) / np.sqrt((tp+fp)*(tp+fn)*(tn+fp)*(tn+fn))\n",
    "    \n",
    "    return mc_coef"
   ]
  },
  {
   "cell_type": "code",
   "execution_count": 80,
   "id": "81cc6897",
   "metadata": {},
   "outputs": [
    {
     "name": "stderr",
     "output_type": "stream",
     "text": [
      "/Users/Tomm/opt/anaconda3/envs/ORwDS_light/lib/python3.11/site-packages/sklearn/svm/_base.py:299: ConvergenceWarning: Solver terminated early (max_iter=10000).  Consider pre-processing your data with StandardScaler or MinMaxScaler.\n",
      "  warnings.warn(\n",
      "/Users/Tomm/opt/anaconda3/envs/ORwDS_light/lib/python3.11/site-packages/sklearn/svm/_base.py:299: ConvergenceWarning: Solver terminated early (max_iter=10000).  Consider pre-processing your data with StandardScaler or MinMaxScaler.\n",
      "  warnings.warn(\n",
      "/Users/Tomm/opt/anaconda3/envs/ORwDS_light/lib/python3.11/site-packages/sklearn/svm/_base.py:299: ConvergenceWarning: Solver terminated early (max_iter=10000).  Consider pre-processing your data with StandardScaler or MinMaxScaler.\n",
      "  warnings.warn(\n",
      "/Users/Tomm/opt/anaconda3/envs/ORwDS_light/lib/python3.11/site-packages/sklearn/svm/_base.py:299: ConvergenceWarning: Solver terminated early (max_iter=10000).  Consider pre-processing your data with StandardScaler or MinMaxScaler.\n",
      "  warnings.warn(\n",
      "/Users/Tomm/opt/anaconda3/envs/ORwDS_light/lib/python3.11/site-packages/sklearn/svm/_base.py:299: ConvergenceWarning: Solver terminated early (max_iter=10000).  Consider pre-processing your data with StandardScaler or MinMaxScaler.\n",
      "  warnings.warn(\n",
      "/Users/Tomm/opt/anaconda3/envs/ORwDS_light/lib/python3.11/site-packages/sklearn/svm/_base.py:299: ConvergenceWarning: Solver terminated early (max_iter=10000).  Consider pre-processing your data with StandardScaler or MinMaxScaler.\n",
      "  warnings.warn(\n"
     ]
    }
   ],
   "source": [
    "columns = np.asarray(['Accuracy','Specificity', 'Recall', 'Precision', 'F1 Score', 'ROC AUC', 'Matt Corr', 'Time (s)'])\n",
    "    \n",
    "    \n",
    "results = pd.DataFrame(np.zeros((len(model_dict),len(columns))),columns=columns,\n",
    "                       index=model_dict.keys(),dtype=float)\n",
    "\n",
    "\n",
    "for i, model_name in enumerate(model_dict):\n",
    "    \n",
    "    # Set up model pipeline\n",
    "    pipeline = Pipeline([\n",
    "        (\"scaler\", StandardScaler()),\n",
    "        (\"model\", model_dict[model_name])\n",
    "    ])\n",
    "    \n",
    "    # Cross validate the classifier\n",
    "    score_dict = cross_validate(pipeline,X_train,y_train,n_jobs=-1,cv=5,\n",
    "                                return_train_score = True)\n",
    "    \n",
    "    # Fit the classifier on training dataset and generate predictions for test dataset\n",
    "    \n",
    "    start = process_time()\n",
    "    pipeline.fit(X_train, y_train)\n",
    "    end = process_time()   \n",
    "    \n",
    "    predictor = pipeline.predict(X_test)\n",
    "    \n",
    "    # Store cross validation mean and stdev score results into results dataframe\n",
    "    results.iloc[i,0] = accuracy_score(y_test, predictor)\n",
    "    results.iloc[i,1] = recall_score(y_test, predictor, pos_label =0)\n",
    "    results.iloc[i,2] = recall_score(y_test, predictor)\n",
    "    results.iloc[i,3] = precision_score(y_test, predictor, zero_division=0.0)\n",
    "    results.iloc[i,4] = f1_score(y_test, predictor, zero_division=0.0)\n",
    "    \n",
    "    y_proba = pipeline.predict_proba(X_test)[:, 1]\n",
    "    \n",
    "    results.iloc[i,5] = roc_auc_score(y_test, y_proba)\n",
    "    results.iloc[i,6] = MatthewsCorrelation(confusion_matrix(y_true = y_test, y_pred=predictor))\n",
    "    results.iloc[i,7] = end-start"
   ]
  },
  {
   "cell_type": "code",
   "execution_count": 81,
   "id": "5efc1162",
   "metadata": {},
   "outputs": [
    {
     "data": {
      "text/html": [
       "<div>\n",
       "<style scoped>\n",
       "    .dataframe tbody tr th:only-of-type {\n",
       "        vertical-align: middle;\n",
       "    }\n",
       "\n",
       "    .dataframe tbody tr th {\n",
       "        vertical-align: top;\n",
       "    }\n",
       "\n",
       "    .dataframe thead th {\n",
       "        text-align: right;\n",
       "    }\n",
       "</style>\n",
       "<table border=\"1\" class=\"dataframe\">\n",
       "  <thead>\n",
       "    <tr style=\"text-align: right;\">\n",
       "      <th></th>\n",
       "      <th>Accuracy</th>\n",
       "      <th>Specificity</th>\n",
       "      <th>Recall</th>\n",
       "      <th>Precision</th>\n",
       "      <th>F1 Score</th>\n",
       "      <th>ROC AUC</th>\n",
       "      <th>Matt Corr</th>\n",
       "      <th>Time (s)</th>\n",
       "    </tr>\n",
       "  </thead>\n",
       "  <tbody>\n",
       "    <tr>\n",
       "      <th>SVC lin</th>\n",
       "      <td>0.98</td>\n",
       "      <td>1.00</td>\n",
       "      <td>0.94</td>\n",
       "      <td>0.99</td>\n",
       "      <td>0.96</td>\n",
       "      <td>1.00</td>\n",
       "      <td>0.95</td>\n",
       "      <td>0.66</td>\n",
       "    </tr>\n",
       "    <tr>\n",
       "      <th>SVC rbf</th>\n",
       "      <td>0.97</td>\n",
       "      <td>1.00</td>\n",
       "      <td>0.91</td>\n",
       "      <td>1.00</td>\n",
       "      <td>0.95</td>\n",
       "      <td>0.99</td>\n",
       "      <td>0.94</td>\n",
       "      <td>1.64</td>\n",
       "    </tr>\n",
       "    <tr>\n",
       "      <th>Log lasso</th>\n",
       "      <td>0.98</td>\n",
       "      <td>1.00</td>\n",
       "      <td>0.94</td>\n",
       "      <td>0.99</td>\n",
       "      <td>0.96</td>\n",
       "      <td>1.00</td>\n",
       "      <td>0.95</td>\n",
       "      <td>0.06</td>\n",
       "    </tr>\n",
       "    <tr>\n",
       "      <th>Log ridge</th>\n",
       "      <td>0.98</td>\n",
       "      <td>1.00</td>\n",
       "      <td>0.94</td>\n",
       "      <td>0.99</td>\n",
       "      <td>0.97</td>\n",
       "      <td>1.00</td>\n",
       "      <td>0.95</td>\n",
       "      <td>0.11</td>\n",
       "    </tr>\n",
       "    <tr>\n",
       "      <th>Dec trees</th>\n",
       "      <td>0.96</td>\n",
       "      <td>0.97</td>\n",
       "      <td>0.92</td>\n",
       "      <td>0.92</td>\n",
       "      <td>0.92</td>\n",
       "      <td>0.95</td>\n",
       "      <td>0.89</td>\n",
       "      <td>0.17</td>\n",
       "    </tr>\n",
       "    <tr>\n",
       "      <th>Grad boost</th>\n",
       "      <td>0.98</td>\n",
       "      <td>0.99</td>\n",
       "      <td>0.94</td>\n",
       "      <td>0.98</td>\n",
       "      <td>0.96</td>\n",
       "      <td>1.00</td>\n",
       "      <td>0.95</td>\n",
       "      <td>0.56</td>\n",
       "    </tr>\n",
       "    <tr>\n",
       "      <th>Rand forest</th>\n",
       "      <td>0.83</td>\n",
       "      <td>1.00</td>\n",
       "      <td>0.39</td>\n",
       "      <td>1.00</td>\n",
       "      <td>0.56</td>\n",
       "      <td>0.98</td>\n",
       "      <td>0.56</td>\n",
       "      <td>0.22</td>\n",
       "    </tr>\n",
       "  </tbody>\n",
       "</table>\n",
       "</div>"
      ],
      "text/plain": [
       "             Accuracy  Specificity  Recall  Precision  F1 Score  ROC AUC  \\\n",
       "SVC lin          0.98         1.00    0.94       0.99      0.96     1.00   \n",
       "SVC rbf          0.97         1.00    0.91       1.00      0.95     0.99   \n",
       "Log lasso        0.98         1.00    0.94       0.99      0.96     1.00   \n",
       "Log ridge        0.98         1.00    0.94       0.99      0.97     1.00   \n",
       "Dec trees        0.96         0.97    0.92       0.92      0.92     0.95   \n",
       "Grad boost       0.98         0.99    0.94       0.98      0.96     1.00   \n",
       "Rand forest      0.83         1.00    0.39       1.00      0.56     0.98   \n",
       "\n",
       "             Matt Corr  Time (s)  \n",
       "SVC lin           0.95      0.66  \n",
       "SVC rbf           0.94      1.64  \n",
       "Log lasso         0.95      0.06  \n",
       "Log ridge         0.95      0.11  \n",
       "Dec trees         0.89      0.17  \n",
       "Grad boost        0.95      0.56  \n",
       "Rand forest       0.56      0.22  "
      ]
     },
     "metadata": {},
     "output_type": "display_data"
    }
   ],
   "source": [
    "display(np.round(results,2))"
   ]
  },
  {
   "cell_type": "markdown",
   "id": "50b11726",
   "metadata": {},
   "source": [
    "## LogLasso Feat Importance"
   ]
  },
  {
   "cell_type": "code",
   "execution_count": 82,
   "id": "fa779d77",
   "metadata": {},
   "outputs": [],
   "source": [
    "pipeline = pipeline = Pipeline([\n",
    "        (\"scaler\", StandardScaler()),\n",
    "        (\"model\", model_dict['Log lasso'])\n",
    "    ])\n",
    "\n",
    "log_model_l1_Cprime = pipeline.fit(X_train, y_train)[\"model\"]"
   ]
  },
  {
   "cell_type": "code",
   "execution_count": 83,
   "id": "e58c8f0a",
   "metadata": {},
   "outputs": [
    {
     "data": {
      "image/png": "[encoded data removed]",
      "text/plain": [
       "<Figure size 640x1600 with 1 Axes>"
      ]
     },
     "metadata": {},
     "output_type": "display_data"
    }
   ],
   "source": [
    "from matplotlib.lines import Line2D\n",
    "\n",
    "## reshape coefficients into 1D array\n",
    "coefficients = log_model_l1_Cprime.coef_.reshape([X_train.shape[1]])\n",
    "tmp = [] ## empty array to fill with indicators\n",
    "\n",
    "for coef in coefficients:\n",
    "    if coef > 0:\n",
    "        tmp.append(1) ## indicates positive coefficient\n",
    "    elif coef < 0:\n",
    "        tmp.append(-1) ## indicates negative coefficient\n",
    "    else:\n",
    "        tmp.append(0)\n",
    "\n",
    "## Create dataframe of features and coefficients for plotting\n",
    "colnames = X_train.columns\n",
    "coef_df = pd.DataFrame({\"feature\": colnames,\n",
    "                        \"coef\": np.abs(coefficients),\n",
    "                        \"influence\": tmp}).sort_values(\"coef\",ascending = True)\n",
    "\n",
    "\n",
    "fig, ax = plt.subplots(figsize = (8,20))\n",
    "\n",
    "## colour red for increased likelihood of cancellation, green otherwise\n",
    "colors = np.where(coef_df['influence']==1, 'r', 'g') \n",
    "\n",
    "ax.scatter(coef_df[\"coef\"],coef_df[\"feature\"],c = colors) ## plot \n",
    "\n",
    "for i in range(X_train.shape[1]):\n",
    "    ## add a stem to each point\n",
    "    name = coef_df[\"feature\"].to_numpy()[i]\n",
    "    val = coef_df[\"coef\"].to_numpy()[i]\n",
    "\n",
    "    ## match stem colour to the colour of the point\n",
    "    if coef_df[\"influence\"].to_numpy()[i] == 1:\n",
    "        ax.hlines(name,xmin = 0, xmax = val,colors = \"r\")\n",
    "    else:\n",
    "        ax.hlines(name,xmin = 0, xmax = val,colors = \"g\")\n",
    "\n",
    "## set scale and insert legend\n",
    "ax.set_xscale(\"log\")\n",
    "legend_elements = [Line2D([0], [0], color='r', label=\"More likely to churn\"),\n",
    "                   Line2D([0], [0], color='g', label='Less likely to churn')]\n",
    "\n",
    "ax.legend(handles=legend_elements,fontsize = 12)\n",
    "ax.grid(alpha =.75)\n",
    "\n",
    "ax.set_xlabel(\"Absolute Value of the Coefficient\")\n",
    "plt.show()\n"
   ]
  },
  {
   "cell_type": "markdown",
   "id": "1fb24b13",
   "metadata": {},
   "source": [
    "## XGBoost feature importances"
   ]
  },
  {
   "cell_type": "code",
   "execution_count": 84,
   "id": "7bae8395",
   "metadata": {
    "scrolled": true
   },
   "outputs": [
    {
     "data": {
      "image/png": "[encoded data removed]",
      "text/plain": [
       "<Figure size 800x480 with 1 Axes>"
      ]
     },
     "metadata": {},
     "output_type": "display_data"
    }
   ],
   "source": [
    "import matplotlib.pyplot as plt\n",
    "from sklearn.ensemble import GradientBoostingClassifier\n",
    "\n",
    "def plot_feature_importances(X, y, feature_names, num_features=10, **gb_params):\n",
    "    # Train the GradientBoostingClassifier\n",
    "    model = GradientBoostingClassifier(**gb_params)\n",
    "    model.fit(X, y)\n",
    "\n",
    "    # Get feature importances from the model\n",
    "    importances = model.feature_importances_\n",
    "    indices = importances.argsort()[-num_features:][::-1]\n",
    "    top_features = [feature_names[i] for i in indices]\n",
    "    top_importances = importances[indices]\n",
    "\n",
    "    # Create a bar plot for the top features\n",
    "    plt.figure(figsize=(10, 6))\n",
    "    plt.bar(range(num_features), top_importances, align='center')\n",
    "    plt.xticks(range(num_features), top_features, rotation=45, ha='right')\n",
    "    plt.xlabel('Feature')\n",
    "    plt.ylabel('Importance')\n",
    "    plt.title('Top {} Feature Importances'.format(num_features))\n",
    "    plt.tight_layout()\n",
    "    plt.show()\n",
    "\n",
    "# Example usage:\n",
    "# Assuming you have the X_train, y_train, and feature_names ready\n",
    "# Replace 'X_train' and 'y_train' with your actual training data\n",
    "# Replace 'feature_names' with a list containing the names of your features\n",
    "gb_params = {'n_estimators': 100, 'max_depth': 3, 'learning_rate': 0.1}\n",
    "plot_feature_importances(X_train, y_train, feature_names, num_features=10, **gb_params)\n"
   ]
  }
 ],
 "metadata": {
  "kernelspec": {
   "display_name": "Python 3 (ipykernel)",
   "language": "python",
   "name": "python3"
  },
  "language_info": {
   "codemirror_mode": {
    "name": "ipython",
    "version": 3
   },
   "file_extension": ".py",
   "mimetype": "text/x-python",
   "name": "python",
   "nbconvert_exporter": "python",
   "pygments_lexer": "ipython3",
   "version": "3.11.3"
  }
 },
 "nbformat": 4,
 "nbformat_minor": 5
}
